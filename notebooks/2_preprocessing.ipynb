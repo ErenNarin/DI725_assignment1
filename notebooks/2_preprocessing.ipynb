{
 "cells": [
  {
   "metadata": {},
   "cell_type": "markdown",
   "source": [
    "In this notebook, we will clean our data and prepare it for model training. Since our only input is 'conversation' and the only output is 'customer_sentiment', we will drop all other features from our data. As you know, we investigated other features in [1_eda.ipynb](1_eda.ipynb) and found some insights that may be interesting for company managers.\n",
    "\n",
    "If you didn't install the required packages before, you can with the commented out line below. Otherwise, you will get errors at the first import."
   ],
   "id": "e9b741c4dd7274d6"
  },
  {
   "metadata": {
    "ExecuteTime": {
     "end_time": "2025-04-02T13:41:01.960453Z",
     "start_time": "2025-04-02T13:41:01.958431Z"
    }
   },
   "cell_type": "code",
   "source": "#!pip install torch numpy transformers datasets tiktoken wandb tqdm matplotlib seaborn scipy scikit-learn",
   "id": "56c5423f2cfea10d",
   "outputs": [],
   "execution_count": 1
  },
  {
   "metadata": {
    "ExecuteTime": {
     "end_time": "2025-04-02T13:41:03.138331Z",
     "start_time": "2025-04-02T13:41:02.003709Z"
    }
   },
   "cell_type": "code",
   "source": [
    "import wandb\n",
    "from data.utils.prepare import load_reduced_data, encode_labels, remove_redundant_lines, train_val_split, encode_texts, save_dataset"
   ],
   "id": "766f9d9b53506d92",
   "outputs": [],
   "execution_count": 2
  },
  {
   "metadata": {},
   "cell_type": "markdown",
   "source": "We will initialize the Weights & Biases project now. If you are not logged in to your wandb account, in this step you should enter your wandb credentials.",
   "id": "32926946a99d94bd"
  },
  {
   "metadata": {
    "ExecuteTime": {
     "end_time": "2025-04-02T13:41:04.687097Z",
     "start_time": "2025-04-02T13:41:03.171067Z"
    }
   },
   "cell_type": "code",
   "source": [
    "wandb.init(\n",
    "    project=\"DI725_assignment_1_2389088\"\n",
    ")\n",
    "config = wandb.config"
   ],
   "id": "76ae00df532fa2ea",
   "outputs": [
    {
     "name": "stderr",
     "output_type": "stream",
     "text": [
      "\u001B[34m\u001B[1mwandb\u001B[0m: Using wandb-core as the SDK backend.  Please refer to https://wandb.me/wandb-core for more information.\n",
      "\u001B[34m\u001B[1mwandb\u001B[0m: Currently logged in as: \u001B[33merennarin-92\u001B[0m (\u001B[33merennarin-92-metu-middle-east-technical-university\u001B[0m) to \u001B[32mhttps://api.wandb.ai\u001B[0m. Use \u001B[1m`wandb login --relogin`\u001B[0m to force relogin\n"
     ]
    },
    {
     "data": {
      "text/plain": [
       "<IPython.core.display.HTML object>"
      ],
      "text/html": [
       "Tracking run with wandb version 0.19.8"
      ]
     },
     "metadata": {},
     "output_type": "display_data"
    },
    {
     "data": {
      "text/plain": [
       "<IPython.core.display.HTML object>"
      ],
      "text/html": [
       "Run data is saved locally in <code>/home/eren/Drive/METU/Courses/[DI 725] Transformers and Attention-Based Deep Networks/Assignments/Assignment 1/DI725_assignment1/notebooks/wandb/run-20250402_164104-ke4idp8r</code>"
      ]
     },
     "metadata": {},
     "output_type": "display_data"
    },
    {
     "data": {
      "text/plain": [
       "<IPython.core.display.HTML object>"
      ],
      "text/html": [
       "Syncing run <strong><a href='https://wandb.ai/erennarin-92-metu-middle-east-technical-university/DI725_assignment_1_2389088/runs/ke4idp8r' target=\"_blank\">crisp-sky-22</a></strong> to <a href='https://wandb.ai/erennarin-92-metu-middle-east-technical-university/DI725_assignment_1_2389088' target=\"_blank\">Weights & Biases</a> (<a href='https://wandb.me/developer-guide' target=\"_blank\">docs</a>)<br>"
      ]
     },
     "metadata": {},
     "output_type": "display_data"
    },
    {
     "data": {
      "text/plain": [
       "<IPython.core.display.HTML object>"
      ],
      "text/html": [
       " View project at <a href='https://wandb.ai/erennarin-92-metu-middle-east-technical-university/DI725_assignment_1_2389088' target=\"_blank\">https://wandb.ai/erennarin-92-metu-middle-east-technical-university/DI725_assignment_1_2389088</a>"
      ]
     },
     "metadata": {},
     "output_type": "display_data"
    },
    {
     "data": {
      "text/plain": [
       "<IPython.core.display.HTML object>"
      ],
      "text/html": [
       " View run at <a href='https://wandb.ai/erennarin-92-metu-middle-east-technical-university/DI725_assignment_1_2389088/runs/ke4idp8r' target=\"_blank\">https://wandb.ai/erennarin-92-metu-middle-east-technical-university/DI725_assignment_1_2389088/runs/ke4idp8r</a>"
      ]
     },
     "metadata": {},
     "output_type": "display_data"
    }
   ],
   "execution_count": 3
  },
  {
   "metadata": {},
   "cell_type": "markdown",
   "source": "Before starting the preprocessing step, we should load the data again. In this step, we also drop unnecessary features. We will only hold the \"conversation\" column as feature and \"customer_sentiment\" column as target value. Also, we will split our data into train and validation datasets.",
   "id": "21aec54270d65719"
  },
  {
   "metadata": {
    "ExecuteTime": {
     "end_time": "2025-04-02T13:41:04.718671Z",
     "start_time": "2025-04-02T13:41:04.692733Z"
    }
   },
   "cell_type": "code",
   "source": [
    "features = [\"conversation\"]\n",
    "target = \"customer_sentiment\"\n",
    "df_train, df_test = load_reduced_data(features, target)\n",
    "\n",
    "df_train, df_val = train_val_split(df_train, target=target)\n",
    "\n",
    "df_train.info()\n",
    "df_val.info()\n",
    "df_test.info()"
   ],
   "id": "6d69caddecc6c268",
   "outputs": [
    {
     "name": "stdout",
     "output_type": "stream",
     "text": [
      "<class 'pandas.core.frame.DataFrame'>\n",
      "Index: 776 entries, 183 to 359\n",
      "Data columns (total 2 columns):\n",
      " #   Column              Non-Null Count  Dtype \n",
      "---  ------              --------------  ----- \n",
      " 0   conversation        776 non-null    object\n",
      " 1   customer_sentiment  776 non-null    object\n",
      "dtypes: object(2)\n",
      "memory usage: 18.2+ KB\n",
      "<class 'pandas.core.frame.DataFrame'>\n",
      "Index: 194 entries, 26 to 779\n",
      "Data columns (total 2 columns):\n",
      " #   Column              Non-Null Count  Dtype \n",
      "---  ------              --------------  ----- \n",
      " 0   conversation        194 non-null    object\n",
      " 1   customer_sentiment  194 non-null    object\n",
      "dtypes: object(2)\n",
      "memory usage: 4.5+ KB\n",
      "<class 'pandas.core.frame.DataFrame'>\n",
      "RangeIndex: 30 entries, 0 to 29\n",
      "Data columns (total 2 columns):\n",
      " #   Column              Non-Null Count  Dtype \n",
      "---  ------              --------------  ----- \n",
      " 0   conversation        30 non-null     object\n",
      " 1   customer_sentiment  30 non-null     object\n",
      "dtypes: object(2)\n",
      "memory usage: 608.0+ bytes\n"
     ]
    }
   ],
   "execution_count": 4
  },
  {
   "metadata": {
    "ExecuteTime": {
     "end_time": "2025-04-02T13:41:04.740580Z",
     "start_time": "2025-04-02T13:41:04.735696Z"
    }
   },
   "cell_type": "code",
   "source": "df_train.head(3)",
   "id": "5917f4efbf52cb8f",
   "outputs": [
    {
     "data": {
      "text/plain": [
       "                                          conversation customer_sentiment\n",
       "183  Customer: Hi, I'm calling because I have an is...           negative\n",
       "823  Customer: Hi, I received an email from BrownBo...            neutral\n",
       "649  Agent: Thank you for contacting BrownBox custo...            neutral"
      ],
      "text/html": [
       "<div>\n",
       "<style scoped>\n",
       "    .dataframe tbody tr th:only-of-type {\n",
       "        vertical-align: middle;\n",
       "    }\n",
       "\n",
       "    .dataframe tbody tr th {\n",
       "        vertical-align: top;\n",
       "    }\n",
       "\n",
       "    .dataframe thead th {\n",
       "        text-align: right;\n",
       "    }\n",
       "</style>\n",
       "<table border=\"1\" class=\"dataframe\">\n",
       "  <thead>\n",
       "    <tr style=\"text-align: right;\">\n",
       "      <th></th>\n",
       "      <th>conversation</th>\n",
       "      <th>customer_sentiment</th>\n",
       "    </tr>\n",
       "  </thead>\n",
       "  <tbody>\n",
       "    <tr>\n",
       "      <th>183</th>\n",
       "      <td>Customer: Hi, I'm calling because I have an is...</td>\n",
       "      <td>negative</td>\n",
       "    </tr>\n",
       "    <tr>\n",
       "      <th>823</th>\n",
       "      <td>Customer: Hi, I received an email from BrownBo...</td>\n",
       "      <td>neutral</td>\n",
       "    </tr>\n",
       "    <tr>\n",
       "      <th>649</th>\n",
       "      <td>Agent: Thank you for contacting BrownBox custo...</td>\n",
       "      <td>neutral</td>\n",
       "    </tr>\n",
       "  </tbody>\n",
       "</table>\n",
       "</div>"
      ]
     },
     "execution_count": 5,
     "metadata": {},
     "output_type": "execute_result"
    }
   ],
   "execution_count": 5
  },
  {
   "metadata": {
    "ExecuteTime": {
     "end_time": "2025-04-02T13:41:04.805815Z",
     "start_time": "2025-04-02T13:41:04.802122Z"
    }
   },
   "cell_type": "code",
   "source": "df_val.head(3)",
   "id": "5aa792dfc8cee8bd",
   "outputs": [
    {
     "data": {
      "text/plain": [
       "                                          conversation customer_sentiment\n",
       "26   Agent: Hello, thank you for calling BrownBox C...            neutral\n",
       "834  Agent: Thank you for calling BrownBox Customer...            neutral\n",
       "207  Agent: Thank you for calling BrownBox Customer...            neutral"
      ],
      "text/html": [
       "<div>\n",
       "<style scoped>\n",
       "    .dataframe tbody tr th:only-of-type {\n",
       "        vertical-align: middle;\n",
       "    }\n",
       "\n",
       "    .dataframe tbody tr th {\n",
       "        vertical-align: top;\n",
       "    }\n",
       "\n",
       "    .dataframe thead th {\n",
       "        text-align: right;\n",
       "    }\n",
       "</style>\n",
       "<table border=\"1\" class=\"dataframe\">\n",
       "  <thead>\n",
       "    <tr style=\"text-align: right;\">\n",
       "      <th></th>\n",
       "      <th>conversation</th>\n",
       "      <th>customer_sentiment</th>\n",
       "    </tr>\n",
       "  </thead>\n",
       "  <tbody>\n",
       "    <tr>\n",
       "      <th>26</th>\n",
       "      <td>Agent: Hello, thank you for calling BrownBox C...</td>\n",
       "      <td>neutral</td>\n",
       "    </tr>\n",
       "    <tr>\n",
       "      <th>834</th>\n",
       "      <td>Agent: Thank you for calling BrownBox Customer...</td>\n",
       "      <td>neutral</td>\n",
       "    </tr>\n",
       "    <tr>\n",
       "      <th>207</th>\n",
       "      <td>Agent: Thank you for calling BrownBox Customer...</td>\n",
       "      <td>neutral</td>\n",
       "    </tr>\n",
       "  </tbody>\n",
       "</table>\n",
       "</div>"
      ]
     },
     "execution_count": 6,
     "metadata": {},
     "output_type": "execute_result"
    }
   ],
   "execution_count": 6
  },
  {
   "metadata": {
    "ExecuteTime": {
     "end_time": "2025-04-02T13:41:04.850368Z",
     "start_time": "2025-04-02T13:41:04.846023Z"
    }
   },
   "cell_type": "code",
   "source": "df_test.head(3)",
   "id": "9e0cf59b359e3667",
   "outputs": [
    {
     "data": {
      "text/plain": [
       "                                        conversation customer_sentiment\n",
       "0  Agent: Thank you for calling BrownBox Customer...           negative\n",
       "1  Agent: Thank you for calling BrownBox Customer...           negative\n",
       "2  Agent: Thank you for calling BrownBox Customer...           negative"
      ],
      "text/html": [
       "<div>\n",
       "<style scoped>\n",
       "    .dataframe tbody tr th:only-of-type {\n",
       "        vertical-align: middle;\n",
       "    }\n",
       "\n",
       "    .dataframe tbody tr th {\n",
       "        vertical-align: top;\n",
       "    }\n",
       "\n",
       "    .dataframe thead th {\n",
       "        text-align: right;\n",
       "    }\n",
       "</style>\n",
       "<table border=\"1\" class=\"dataframe\">\n",
       "  <thead>\n",
       "    <tr style=\"text-align: right;\">\n",
       "      <th></th>\n",
       "      <th>conversation</th>\n",
       "      <th>customer_sentiment</th>\n",
       "    </tr>\n",
       "  </thead>\n",
       "  <tbody>\n",
       "    <tr>\n",
       "      <th>0</th>\n",
       "      <td>Agent: Thank you for calling BrownBox Customer...</td>\n",
       "      <td>negative</td>\n",
       "    </tr>\n",
       "    <tr>\n",
       "      <th>1</th>\n",
       "      <td>Agent: Thank you for calling BrownBox Customer...</td>\n",
       "      <td>negative</td>\n",
       "    </tr>\n",
       "    <tr>\n",
       "      <th>2</th>\n",
       "      <td>Agent: Thank you for calling BrownBox Customer...</td>\n",
       "      <td>negative</td>\n",
       "    </tr>\n",
       "  </tbody>\n",
       "</table>\n",
       "</div>"
      ]
     },
     "execution_count": 7,
     "metadata": {},
     "output_type": "execute_result"
    }
   ],
   "execution_count": 7
  },
  {
   "metadata": {},
   "cell_type": "markdown",
   "source": "Since our target values in string format, we should encode our labels. To avoid ambiguous labels, we will use a standardized map for label encoding for bot datasets. ('neutral': 0, 'positive': 1, 'negative': 2)",
   "id": "fca5fa2163fad47e"
  },
  {
   "metadata": {
    "ExecuteTime": {
     "end_time": "2025-04-02T13:41:04.879265Z",
     "start_time": "2025-04-02T13:41:04.873018Z"
    }
   },
   "cell_type": "code",
   "source": [
    "df_train_le = df_train.copy()\n",
    "df_train_le[\"customer_sentiment\"] = df_train[\"customer_sentiment\"].apply(encode_labels)\n",
    "df_train_le.head(3)"
   ],
   "id": "c18fb3842dad6857",
   "outputs": [
    {
     "data": {
      "text/plain": [
       "                                          conversation customer_sentiment\n",
       "183  Customer: Hi, I'm calling because I have an is...          [0, 0, 1]\n",
       "823  Customer: Hi, I received an email from BrownBo...          [1, 0, 0]\n",
       "649  Agent: Thank you for contacting BrownBox custo...          [1, 0, 0]"
      ],
      "text/html": [
       "<div>\n",
       "<style scoped>\n",
       "    .dataframe tbody tr th:only-of-type {\n",
       "        vertical-align: middle;\n",
       "    }\n",
       "\n",
       "    .dataframe tbody tr th {\n",
       "        vertical-align: top;\n",
       "    }\n",
       "\n",
       "    .dataframe thead th {\n",
       "        text-align: right;\n",
       "    }\n",
       "</style>\n",
       "<table border=\"1\" class=\"dataframe\">\n",
       "  <thead>\n",
       "    <tr style=\"text-align: right;\">\n",
       "      <th></th>\n",
       "      <th>conversation</th>\n",
       "      <th>customer_sentiment</th>\n",
       "    </tr>\n",
       "  </thead>\n",
       "  <tbody>\n",
       "    <tr>\n",
       "      <th>183</th>\n",
       "      <td>Customer: Hi, I'm calling because I have an is...</td>\n",
       "      <td>[0, 0, 1]</td>\n",
       "    </tr>\n",
       "    <tr>\n",
       "      <th>823</th>\n",
       "      <td>Customer: Hi, I received an email from BrownBo...</td>\n",
       "      <td>[1, 0, 0]</td>\n",
       "    </tr>\n",
       "    <tr>\n",
       "      <th>649</th>\n",
       "      <td>Agent: Thank you for contacting BrownBox custo...</td>\n",
       "      <td>[1, 0, 0]</td>\n",
       "    </tr>\n",
       "  </tbody>\n",
       "</table>\n",
       "</div>"
      ]
     },
     "execution_count": 8,
     "metadata": {},
     "output_type": "execute_result"
    }
   ],
   "execution_count": 8
  },
  {
   "metadata": {
    "ExecuteTime": {
     "end_time": "2025-04-02T13:41:04.945621Z",
     "start_time": "2025-04-02T13:41:04.940265Z"
    }
   },
   "cell_type": "code",
   "source": [
    "df_val_le = df_val.copy()\n",
    "df_val_le[\"customer_sentiment\"] = df_val[\"customer_sentiment\"].apply(encode_labels)\n",
    "df_val_le.head(3)"
   ],
   "id": "6990e342ce078c9a",
   "outputs": [
    {
     "data": {
      "text/plain": [
       "                                          conversation customer_sentiment\n",
       "26   Agent: Hello, thank you for calling BrownBox C...          [1, 0, 0]\n",
       "834  Agent: Thank you for calling BrownBox Customer...          [1, 0, 0]\n",
       "207  Agent: Thank you for calling BrownBox Customer...          [1, 0, 0]"
      ],
      "text/html": [
       "<div>\n",
       "<style scoped>\n",
       "    .dataframe tbody tr th:only-of-type {\n",
       "        vertical-align: middle;\n",
       "    }\n",
       "\n",
       "    .dataframe tbody tr th {\n",
       "        vertical-align: top;\n",
       "    }\n",
       "\n",
       "    .dataframe thead th {\n",
       "        text-align: right;\n",
       "    }\n",
       "</style>\n",
       "<table border=\"1\" class=\"dataframe\">\n",
       "  <thead>\n",
       "    <tr style=\"text-align: right;\">\n",
       "      <th></th>\n",
       "      <th>conversation</th>\n",
       "      <th>customer_sentiment</th>\n",
       "    </tr>\n",
       "  </thead>\n",
       "  <tbody>\n",
       "    <tr>\n",
       "      <th>26</th>\n",
       "      <td>Agent: Hello, thank you for calling BrownBox C...</td>\n",
       "      <td>[1, 0, 0]</td>\n",
       "    </tr>\n",
       "    <tr>\n",
       "      <th>834</th>\n",
       "      <td>Agent: Thank you for calling BrownBox Customer...</td>\n",
       "      <td>[1, 0, 0]</td>\n",
       "    </tr>\n",
       "    <tr>\n",
       "      <th>207</th>\n",
       "      <td>Agent: Thank you for calling BrownBox Customer...</td>\n",
       "      <td>[1, 0, 0]</td>\n",
       "    </tr>\n",
       "  </tbody>\n",
       "</table>\n",
       "</div>"
      ]
     },
     "execution_count": 9,
     "metadata": {},
     "output_type": "execute_result"
    }
   ],
   "execution_count": 9
  },
  {
   "metadata": {
    "ExecuteTime": {
     "end_time": "2025-04-02T13:41:04.991489Z",
     "start_time": "2025-04-02T13:41:04.986460Z"
    }
   },
   "cell_type": "code",
   "source": [
    "df_test_le = df_test.copy()\n",
    "df_test_le[\"customer_sentiment\"] = df_test[\"customer_sentiment\"].apply(encode_labels)\n",
    "df_test_le.head(3)"
   ],
   "id": "e8cf5da6b441d7a7",
   "outputs": [
    {
     "data": {
      "text/plain": [
       "                                        conversation customer_sentiment\n",
       "0  Agent: Thank you for calling BrownBox Customer...          [0, 0, 1]\n",
       "1  Agent: Thank you for calling BrownBox Customer...          [0, 0, 1]\n",
       "2  Agent: Thank you for calling BrownBox Customer...          [0, 0, 1]"
      ],
      "text/html": [
       "<div>\n",
       "<style scoped>\n",
       "    .dataframe tbody tr th:only-of-type {\n",
       "        vertical-align: middle;\n",
       "    }\n",
       "\n",
       "    .dataframe tbody tr th {\n",
       "        vertical-align: top;\n",
       "    }\n",
       "\n",
       "    .dataframe thead th {\n",
       "        text-align: right;\n",
       "    }\n",
       "</style>\n",
       "<table border=\"1\" class=\"dataframe\">\n",
       "  <thead>\n",
       "    <tr style=\"text-align: right;\">\n",
       "      <th></th>\n",
       "      <th>conversation</th>\n",
       "      <th>customer_sentiment</th>\n",
       "    </tr>\n",
       "  </thead>\n",
       "  <tbody>\n",
       "    <tr>\n",
       "      <th>0</th>\n",
       "      <td>Agent: Thank you for calling BrownBox Customer...</td>\n",
       "      <td>[0, 0, 1]</td>\n",
       "    </tr>\n",
       "    <tr>\n",
       "      <th>1</th>\n",
       "      <td>Agent: Thank you for calling BrownBox Customer...</td>\n",
       "      <td>[0, 0, 1]</td>\n",
       "    </tr>\n",
       "    <tr>\n",
       "      <th>2</th>\n",
       "      <td>Agent: Thank you for calling BrownBox Customer...</td>\n",
       "      <td>[0, 0, 1]</td>\n",
       "    </tr>\n",
       "  </tbody>\n",
       "</table>\n",
       "</div>"
      ]
     },
     "execution_count": 10,
     "metadata": {},
     "output_type": "execute_result"
    }
   ],
   "execution_count": 10
  },
  {
   "metadata": {},
   "cell_type": "markdown",
   "source": [
    "As you can see, neutral values are converted to \\[1 0 0], and negative values are converted to \\[0 0 1].\n",
    "\n",
    "Now we can start to clean our data. There are so many repetitive sentences in our data, like opening lines. As first step, we can remove them. While doing this, we will use regular expressions. Sentences like \"After a few seconds\" repeats in conversation many times, but we will hold this information, since its probably has an effect on customer sentiment.\n",
    "\n",
    "At first, we should cast conversation values to string."
   ],
   "id": "ca3d906c050cba2d"
  },
  {
   "metadata": {
    "ExecuteTime": {
     "end_time": "2025-04-02T13:41:05.188787Z",
     "start_time": "2025-04-02T13:41:05.050097Z"
    }
   },
   "cell_type": "code",
   "source": [
    "df_train_cleaned = df_train_le.copy()\n",
    "df_train_cleaned[\"conversation\"] = df_train_cleaned[\"conversation\"].str.lower()\n",
    "df_train_cleaned[\"conversation\"] = df_train_cleaned[\"conversation\"].apply(remove_redundant_lines)\n",
    "\n",
    "df_val_cleaned = df_val_le.copy()\n",
    "df_val_cleaned[\"conversation\"] = df_val_cleaned[\"conversation\"].str.lower()\n",
    "df_val_cleaned[\"conversation\"] = df_val_cleaned[\"conversation\"].apply(remove_redundant_lines)\n",
    "\n",
    "df_test_cleaned = df_test_le.copy()\n",
    "df_test_cleaned[\"conversation\"] = df_test_cleaned[\"conversation\"].str.lower()\n",
    "df_test_cleaned[\"conversation\"] = df_test_cleaned[\"conversation\"].apply(remove_redundant_lines)"
   ],
   "id": "d3e8aee91801f410",
   "outputs": [],
   "execution_count": 11
  },
  {
   "metadata": {
    "ExecuteTime": {
     "end_time": "2025-04-02T13:41:05.201119Z",
     "start_time": "2025-04-02T13:41:05.195571Z"
    }
   },
   "cell_type": "code",
   "source": "df_train_cleaned.head(3)",
   "id": "11e3007fff32b8a5",
   "outputs": [
    {
     "data": {
      "text/plain": [
       "                                          conversation customer_sentiment\n",
       "183  C: hi, i'm calling because i have an issue wit...          [0, 0, 1]\n",
       "823  C: hi, i received an email from brownbox stati...          [1, 0, 0]\n",
       "649  C: hi rachel. i recently ordered a water geyse...          [1, 0, 0]"
      ],
      "text/html": [
       "<div>\n",
       "<style scoped>\n",
       "    .dataframe tbody tr th:only-of-type {\n",
       "        vertical-align: middle;\n",
       "    }\n",
       "\n",
       "    .dataframe tbody tr th {\n",
       "        vertical-align: top;\n",
       "    }\n",
       "\n",
       "    .dataframe thead th {\n",
       "        text-align: right;\n",
       "    }\n",
       "</style>\n",
       "<table border=\"1\" class=\"dataframe\">\n",
       "  <thead>\n",
       "    <tr style=\"text-align: right;\">\n",
       "      <th></th>\n",
       "      <th>conversation</th>\n",
       "      <th>customer_sentiment</th>\n",
       "    </tr>\n",
       "  </thead>\n",
       "  <tbody>\n",
       "    <tr>\n",
       "      <th>183</th>\n",
       "      <td>C: hi, i'm calling because i have an issue wit...</td>\n",
       "      <td>[0, 0, 1]</td>\n",
       "    </tr>\n",
       "    <tr>\n",
       "      <th>823</th>\n",
       "      <td>C: hi, i received an email from brownbox stati...</td>\n",
       "      <td>[1, 0, 0]</td>\n",
       "    </tr>\n",
       "    <tr>\n",
       "      <th>649</th>\n",
       "      <td>C: hi rachel. i recently ordered a water geyse...</td>\n",
       "      <td>[1, 0, 0]</td>\n",
       "    </tr>\n",
       "  </tbody>\n",
       "</table>\n",
       "</div>"
      ]
     },
     "execution_count": 12,
     "metadata": {},
     "output_type": "execute_result"
    }
   ],
   "execution_count": 12
  },
  {
   "metadata": {
    "ExecuteTime": {
     "end_time": "2025-04-02T13:41:05.246256Z",
     "start_time": "2025-04-02T13:41:05.241619Z"
    }
   },
   "cell_type": "code",
   "source": "df_val_cleaned.head(3)",
   "id": "905f32fc24024bae",
   "outputs": [
    {
     "data": {
      "text/plain": [
       "                                          conversation customer_sentiment\n",
       "26   W: hello, thank you for calling brownbox custo...          [1, 0, 0]\n",
       "834  W: thank you for calling brownbox customer sup...          [1, 0, 0]\n",
       "207  C: hi sarah, i recently purchased an air coole...          [1, 0, 0]"
      ],
      "text/html": [
       "<div>\n",
       "<style scoped>\n",
       "    .dataframe tbody tr th:only-of-type {\n",
       "        vertical-align: middle;\n",
       "    }\n",
       "\n",
       "    .dataframe tbody tr th {\n",
       "        vertical-align: top;\n",
       "    }\n",
       "\n",
       "    .dataframe thead th {\n",
       "        text-align: right;\n",
       "    }\n",
       "</style>\n",
       "<table border=\"1\" class=\"dataframe\">\n",
       "  <thead>\n",
       "    <tr style=\"text-align: right;\">\n",
       "      <th></th>\n",
       "      <th>conversation</th>\n",
       "      <th>customer_sentiment</th>\n",
       "    </tr>\n",
       "  </thead>\n",
       "  <tbody>\n",
       "    <tr>\n",
       "      <th>26</th>\n",
       "      <td>W: hello, thank you for calling brownbox custo...</td>\n",
       "      <td>[1, 0, 0]</td>\n",
       "    </tr>\n",
       "    <tr>\n",
       "      <th>834</th>\n",
       "      <td>W: thank you for calling brownbox customer sup...</td>\n",
       "      <td>[1, 0, 0]</td>\n",
       "    </tr>\n",
       "    <tr>\n",
       "      <th>207</th>\n",
       "      <td>C: hi sarah, i recently purchased an air coole...</td>\n",
       "      <td>[1, 0, 0]</td>\n",
       "    </tr>\n",
       "  </tbody>\n",
       "</table>\n",
       "</div>"
      ]
     },
     "execution_count": 13,
     "metadata": {},
     "output_type": "execute_result"
    }
   ],
   "execution_count": 13
  },
  {
   "metadata": {
    "ExecuteTime": {
     "end_time": "2025-04-02T13:41:05.276447Z",
     "start_time": "2025-04-02T13:41:05.271969Z"
    }
   },
   "cell_type": "code",
   "source": "df_test_cleaned.head(3)",
   "id": "7de153fdd4825f92",
   "outputs": [
    {
     "data": {
      "text/plain": [
       "                                        conversation customer_sentiment\n",
       "0  C: hi, sarah. i am calling because i am intere...          [0, 0, 1]\n",
       "1  C: hi sarah, my name is john. i'm having troub...          [0, 0, 1]\n",
       "2  C: hi jane, i am calling regarding the refund ...          [0, 0, 1]"
      ],
      "text/html": [
       "<div>\n",
       "<style scoped>\n",
       "    .dataframe tbody tr th:only-of-type {\n",
       "        vertical-align: middle;\n",
       "    }\n",
       "\n",
       "    .dataframe tbody tr th {\n",
       "        vertical-align: top;\n",
       "    }\n",
       "\n",
       "    .dataframe thead th {\n",
       "        text-align: right;\n",
       "    }\n",
       "</style>\n",
       "<table border=\"1\" class=\"dataframe\">\n",
       "  <thead>\n",
       "    <tr style=\"text-align: right;\">\n",
       "      <th></th>\n",
       "      <th>conversation</th>\n",
       "      <th>customer_sentiment</th>\n",
       "    </tr>\n",
       "  </thead>\n",
       "  <tbody>\n",
       "    <tr>\n",
       "      <th>0</th>\n",
       "      <td>C: hi, sarah. i am calling because i am intere...</td>\n",
       "      <td>[0, 0, 1]</td>\n",
       "    </tr>\n",
       "    <tr>\n",
       "      <th>1</th>\n",
       "      <td>C: hi sarah, my name is john. i'm having troub...</td>\n",
       "      <td>[0, 0, 1]</td>\n",
       "    </tr>\n",
       "    <tr>\n",
       "      <th>2</th>\n",
       "      <td>C: hi jane, i am calling regarding the refund ...</td>\n",
       "      <td>[0, 0, 1]</td>\n",
       "    </tr>\n",
       "  </tbody>\n",
       "</table>\n",
       "</div>"
      ]
     },
     "execution_count": 14,
     "metadata": {},
     "output_type": "execute_result"
    }
   ],
   "execution_count": 14
  },
  {
   "metadata": {},
   "cell_type": "markdown",
   "source": "Next step is encoding all datasets with gpt-2's tiktoken encoder and saving datasets.",
   "id": "d70fa730154a4063"
  },
  {
   "metadata": {
    "ExecuteTime": {
     "end_time": "2025-04-02T13:41:05.531959Z",
     "start_time": "2025-04-02T13:41:05.380585Z"
    }
   },
   "cell_type": "code",
   "source": [
    "df_train_final = df_train_cleaned.copy()\n",
    "df_val_final = df_val_cleaned.copy()\n",
    "df_test_final = df_test_cleaned.copy()\n",
    "\n",
    "df_train_final[\"conversation\"] = df_train_final[\"conversation\"].apply(encode_texts)\n",
    "df_val_final[\"conversation\"] = df_val_final[\"conversation\"].apply(encode_texts)\n",
    "df_test_final[\"conversation\"] = df_test_final[\"conversation\"].apply(encode_texts)"
   ],
   "id": "ed33d91dad4fd6be",
   "outputs": [],
   "execution_count": 15
  },
  {
   "metadata": {
    "ExecuteTime": {
     "end_time": "2025-04-02T13:41:05.673349Z",
     "start_time": "2025-04-02T13:41:05.667858Z"
    }
   },
   "cell_type": "code",
   "source": "df_train_final.head(3)",
   "id": "8bbc1820ca99d7e8",
   "outputs": [
    {
     "data": {
      "text/plain": [
       "                                          conversation customer_sentiment\n",
       "183  [34, 25, 23105, 11, 1312, 1101, 4585, 780, 131...          [0, 0, 1]\n",
       "823  [34, 25, 23105, 11, 1312, 2722, 281, 3053, 422...          [1, 0, 0]\n",
       "649  [34, 25, 23105, 3444, 2978, 13, 1312, 2904, 61...          [1, 0, 0]"
      ],
      "text/html": [
       "<div>\n",
       "<style scoped>\n",
       "    .dataframe tbody tr th:only-of-type {\n",
       "        vertical-align: middle;\n",
       "    }\n",
       "\n",
       "    .dataframe tbody tr th {\n",
       "        vertical-align: top;\n",
       "    }\n",
       "\n",
       "    .dataframe thead th {\n",
       "        text-align: right;\n",
       "    }\n",
       "</style>\n",
       "<table border=\"1\" class=\"dataframe\">\n",
       "  <thead>\n",
       "    <tr style=\"text-align: right;\">\n",
       "      <th></th>\n",
       "      <th>conversation</th>\n",
       "      <th>customer_sentiment</th>\n",
       "    </tr>\n",
       "  </thead>\n",
       "  <tbody>\n",
       "    <tr>\n",
       "      <th>183</th>\n",
       "      <td>[34, 25, 23105, 11, 1312, 1101, 4585, 780, 131...</td>\n",
       "      <td>[0, 0, 1]</td>\n",
       "    </tr>\n",
       "    <tr>\n",
       "      <th>823</th>\n",
       "      <td>[34, 25, 23105, 11, 1312, 2722, 281, 3053, 422...</td>\n",
       "      <td>[1, 0, 0]</td>\n",
       "    </tr>\n",
       "    <tr>\n",
       "      <th>649</th>\n",
       "      <td>[34, 25, 23105, 3444, 2978, 13, 1312, 2904, 61...</td>\n",
       "      <td>[1, 0, 0]</td>\n",
       "    </tr>\n",
       "  </tbody>\n",
       "</table>\n",
       "</div>"
      ]
     },
     "execution_count": 16,
     "metadata": {},
     "output_type": "execute_result"
    }
   ],
   "execution_count": 16
  },
  {
   "metadata": {
    "ExecuteTime": {
     "end_time": "2025-04-02T13:41:05.724248Z",
     "start_time": "2025-04-02T13:41:05.717945Z"
    }
   },
   "cell_type": "code",
   "source": "df_val_final.head(3)",
   "id": "be644bc308bf82c3",
   "outputs": [
    {
     "data": {
      "text/plain": [
       "                                          conversation customer_sentiment\n",
       "26   [54, 25, 23748, 11, 5875, 345, 329, 4585, 7586...          [1, 0, 0]\n",
       "834  [54, 25, 5875, 345, 329, 4585, 7586, 3524, 649...          [1, 0, 0]\n",
       "207  [34, 25, 23105, 264, 23066, 11, 1312, 2904, 81...          [1, 0, 0]"
      ],
      "text/html": [
       "<div>\n",
       "<style scoped>\n",
       "    .dataframe tbody tr th:only-of-type {\n",
       "        vertical-align: middle;\n",
       "    }\n",
       "\n",
       "    .dataframe tbody tr th {\n",
       "        vertical-align: top;\n",
       "    }\n",
       "\n",
       "    .dataframe thead th {\n",
       "        text-align: right;\n",
       "    }\n",
       "</style>\n",
       "<table border=\"1\" class=\"dataframe\">\n",
       "  <thead>\n",
       "    <tr style=\"text-align: right;\">\n",
       "      <th></th>\n",
       "      <th>conversation</th>\n",
       "      <th>customer_sentiment</th>\n",
       "    </tr>\n",
       "  </thead>\n",
       "  <tbody>\n",
       "    <tr>\n",
       "      <th>26</th>\n",
       "      <td>[54, 25, 23748, 11, 5875, 345, 329, 4585, 7586...</td>\n",
       "      <td>[1, 0, 0]</td>\n",
       "    </tr>\n",
       "    <tr>\n",
       "      <th>834</th>\n",
       "      <td>[54, 25, 5875, 345, 329, 4585, 7586, 3524, 649...</td>\n",
       "      <td>[1, 0, 0]</td>\n",
       "    </tr>\n",
       "    <tr>\n",
       "      <th>207</th>\n",
       "      <td>[34, 25, 23105, 264, 23066, 11, 1312, 2904, 81...</td>\n",
       "      <td>[1, 0, 0]</td>\n",
       "    </tr>\n",
       "  </tbody>\n",
       "</table>\n",
       "</div>"
      ]
     },
     "execution_count": 17,
     "metadata": {},
     "output_type": "execute_result"
    }
   ],
   "execution_count": 17
  },
  {
   "metadata": {
    "ExecuteTime": {
     "end_time": "2025-04-02T13:41:05.794895Z",
     "start_time": "2025-04-02T13:41:05.788353Z"
    }
   },
   "cell_type": "code",
   "source": "df_test_final.head(3)",
   "id": "1aa60b65675d1aa7",
   "outputs": [
    {
     "data": {
      "text/plain": [
       "                                        conversation customer_sentiment\n",
       "0  [34, 25, 23105, 11, 264, 23066, 13, 1312, 716,...          [0, 0, 1]\n",
       "1  [34, 25, 23105, 264, 23066, 11, 616, 1438, 318...          [0, 0, 1]\n",
       "2  [34, 25, 23105, 474, 1531, 11, 1312, 716, 4585...          [0, 0, 1]"
      ],
      "text/html": [
       "<div>\n",
       "<style scoped>\n",
       "    .dataframe tbody tr th:only-of-type {\n",
       "        vertical-align: middle;\n",
       "    }\n",
       "\n",
       "    .dataframe tbody tr th {\n",
       "        vertical-align: top;\n",
       "    }\n",
       "\n",
       "    .dataframe thead th {\n",
       "        text-align: right;\n",
       "    }\n",
       "</style>\n",
       "<table border=\"1\" class=\"dataframe\">\n",
       "  <thead>\n",
       "    <tr style=\"text-align: right;\">\n",
       "      <th></th>\n",
       "      <th>conversation</th>\n",
       "      <th>customer_sentiment</th>\n",
       "    </tr>\n",
       "  </thead>\n",
       "  <tbody>\n",
       "    <tr>\n",
       "      <th>0</th>\n",
       "      <td>[34, 25, 23105, 11, 264, 23066, 13, 1312, 716,...</td>\n",
       "      <td>[0, 0, 1]</td>\n",
       "    </tr>\n",
       "    <tr>\n",
       "      <th>1</th>\n",
       "      <td>[34, 25, 23105, 264, 23066, 11, 616, 1438, 318...</td>\n",
       "      <td>[0, 0, 1]</td>\n",
       "    </tr>\n",
       "    <tr>\n",
       "      <th>2</th>\n",
       "      <td>[34, 25, 23105, 474, 1531, 11, 1312, 716, 4585...</td>\n",
       "      <td>[0, 0, 1]</td>\n",
       "    </tr>\n",
       "  </tbody>\n",
       "</table>\n",
       "</div>"
      ]
     },
     "execution_count": 18,
     "metadata": {},
     "output_type": "execute_result"
    }
   ],
   "execution_count": 18
  },
  {
   "metadata": {
    "ExecuteTime": {
     "end_time": "2025-04-02T13:41:06.512919Z",
     "start_time": "2025-04-02T13:41:05.828871Z"
    }
   },
   "cell_type": "code",
   "source": [
    "save_dataset(df_train_final, \"train\")\n",
    "save_dataset(df_val_final, \"val\")\n",
    "save_dataset(df_test_final, \"test\")"
   ],
   "id": "2ef0e43ddf3db540",
   "outputs": [],
   "execution_count": 19
  }
 ],
 "metadata": {
  "kernelspec": {
   "display_name": "Python 3",
   "language": "python",
   "name": "python3"
  },
  "language_info": {
   "codemirror_mode": {
    "name": "ipython",
    "version": 2
   },
   "file_extension": ".py",
   "mimetype": "text/x-python",
   "name": "python",
   "nbconvert_exporter": "python",
   "pygments_lexer": "ipython2",
   "version": "2.7.6"
  }
 },
 "nbformat": 4,
 "nbformat_minor": 5
}
