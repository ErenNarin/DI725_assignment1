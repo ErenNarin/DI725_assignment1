{
 "cells": [
  {
   "metadata": {},
   "cell_type": "markdown",
   "source": [
    "In this notebook, we will clean our data and prepare it for model training. Since our only input is 'conversation' and the only output is 'customer_sentiment', we will drop all other features from our data. As you know, we investigated other features in [1_eda.ipynb](1_eda.ipynb) and found some insights that may be interesting for company managers.\n",
    "\n",
    "If you didn't install the required packages before, you can with the commented out line below. Otherwise, you will get errors at the first import."
   ],
   "id": "e9b741c4dd7274d6"
  },
  {
   "metadata": {
    "ExecuteTime": {
     "end_time": "2025-04-01T22:55:06.949606Z",
     "start_time": "2025-04-01T22:55:06.947331Z"
    }
   },
   "cell_type": "code",
   "source": "#!pip install torch numpy transformers datasets tiktoken wandb tqdm matplotlib seaborn scipy scikit-learn",
   "id": "56c5423f2cfea10d",
   "outputs": [],
   "execution_count": 1
  },
  {
   "metadata": {
    "ExecuteTime": {
     "end_time": "2025-04-01T22:55:08.126803Z",
     "start_time": "2025-04-01T22:55:06.991944Z"
    }
   },
   "cell_type": "code",
   "source": [
    "import wandb\n",
    "from data.utils.prepare import load_reduced_data, encode_labels, remove_redundant_lines, train_val_split, encode_texts, save_dataset"
   ],
   "id": "766f9d9b53506d92",
   "outputs": [],
   "execution_count": 2
  },
  {
   "metadata": {},
   "cell_type": "markdown",
   "source": "We will initialize the Weights & Biases project now. If you are not logged in to your wandb account, in this step you should enter your wandb credentials.",
   "id": "32926946a99d94bd"
  },
  {
   "metadata": {
    "ExecuteTime": {
     "end_time": "2025-04-01T22:55:09.529487Z",
     "start_time": "2025-04-01T22:55:08.158493Z"
    }
   },
   "cell_type": "code",
   "source": [
    "wandb.init(\n",
    "    project=\"DI725_assignment_1_2389088\"\n",
    ")\n",
    "config = wandb.config"
   ],
   "id": "76ae00df532fa2ea",
   "outputs": [
    {
     "name": "stderr",
     "output_type": "stream",
     "text": [
      "\u001B[34m\u001B[1mwandb\u001B[0m: Using wandb-core as the SDK backend.  Please refer to https://wandb.me/wandb-core for more information.\n",
      "\u001B[34m\u001B[1mwandb\u001B[0m: Currently logged in as: \u001B[33merennarin-92\u001B[0m (\u001B[33merennarin-92-metu-middle-east-technical-university\u001B[0m) to \u001B[32mhttps://api.wandb.ai\u001B[0m. Use \u001B[1m`wandb login --relogin`\u001B[0m to force relogin\n"
     ]
    },
    {
     "data": {
      "text/plain": [
       "<IPython.core.display.HTML object>"
      ],
      "text/html": [
       "Tracking run with wandb version 0.19.8"
      ]
     },
     "metadata": {},
     "output_type": "display_data"
    },
    {
     "data": {
      "text/plain": [
       "<IPython.core.display.HTML object>"
      ],
      "text/html": [
       "Run data is saved locally in <code>/home/eren/Drive/METU/Courses/[DI 725] Transformers and Attention-Based Deep Networks/Assignments/Assignment 1/DI725_assignment1/notebooks/wandb/run-20250402_015508-0e4c2ijy</code>"
      ]
     },
     "metadata": {},
     "output_type": "display_data"
    },
    {
     "data": {
      "text/plain": [
       "<IPython.core.display.HTML object>"
      ],
      "text/html": [
       "Syncing run <strong><a href='https://wandb.ai/erennarin-92-metu-middle-east-technical-university/DI725_assignment_1_2389088/runs/0e4c2ijy' target=\"_blank\">valiant-galaxy-13</a></strong> to <a href='https://wandb.ai/erennarin-92-metu-middle-east-technical-university/DI725_assignment_1_2389088' target=\"_blank\">Weights & Biases</a> (<a href='https://wandb.me/developer-guide' target=\"_blank\">docs</a>)<br>"
      ]
     },
     "metadata": {},
     "output_type": "display_data"
    },
    {
     "data": {
      "text/plain": [
       "<IPython.core.display.HTML object>"
      ],
      "text/html": [
       " View project at <a href='https://wandb.ai/erennarin-92-metu-middle-east-technical-university/DI725_assignment_1_2389088' target=\"_blank\">https://wandb.ai/erennarin-92-metu-middle-east-technical-university/DI725_assignment_1_2389088</a>"
      ]
     },
     "metadata": {},
     "output_type": "display_data"
    },
    {
     "data": {
      "text/plain": [
       "<IPython.core.display.HTML object>"
      ],
      "text/html": [
       " View run at <a href='https://wandb.ai/erennarin-92-metu-middle-east-technical-university/DI725_assignment_1_2389088/runs/0e4c2ijy' target=\"_blank\">https://wandb.ai/erennarin-92-metu-middle-east-technical-university/DI725_assignment_1_2389088/runs/0e4c2ijy</a>"
      ]
     },
     "metadata": {},
     "output_type": "display_data"
    }
   ],
   "execution_count": 3
  },
  {
   "metadata": {},
   "cell_type": "markdown",
   "source": "Before starting the preprocessing step, we should load the data again. In this step, we also drop unnecessary features. We will only hold the \"conversation\" column as feature and \"customer_sentiment\" column as target value.",
   "id": "21aec54270d65719"
  },
  {
   "metadata": {
    "ExecuteTime": {
     "end_time": "2025-04-01T22:55:09.560663Z",
     "start_time": "2025-04-01T22:55:09.535037Z"
    }
   },
   "cell_type": "code",
   "source": [
    "features = [\"conversation\"]\n",
    "target = \"customer_sentiment\"\n",
    "df_train, df_test = load_reduced_data(features, target)"
   ],
   "id": "6d69caddecc6c268",
   "outputs": [
    {
     "name": "stdout",
     "output_type": "stream",
     "text": [
      "Train Dataset Info:\n",
      "<class 'pandas.core.frame.DataFrame'>\n",
      "RangeIndex: 970 entries, 0 to 969\n",
      "Data columns (total 2 columns):\n",
      " #   Column              Non-Null Count  Dtype \n",
      "---  ------              --------------  ----- \n",
      " 0   conversation        970 non-null    object\n",
      " 1   customer_sentiment  970 non-null    object\n",
      "dtypes: object(2)\n",
      "memory usage: 15.3+ KB\n",
      "\n",
      "Test Dataset Info:\n",
      "<class 'pandas.core.frame.DataFrame'>\n",
      "RangeIndex: 30 entries, 0 to 29\n",
      "Data columns (total 2 columns):\n",
      " #   Column              Non-Null Count  Dtype \n",
      "---  ------              --------------  ----- \n",
      " 0   conversation        30 non-null     object\n",
      " 1   customer_sentiment  30 non-null     object\n",
      "dtypes: object(2)\n",
      "memory usage: 608.0+ bytes\n"
     ]
    }
   ],
   "execution_count": 4
  },
  {
   "metadata": {
    "ExecuteTime": {
     "end_time": "2025-04-01T22:55:09.585108Z",
     "start_time": "2025-04-01T22:55:09.579915Z"
    }
   },
   "cell_type": "code",
   "source": "df_train.head(3)",
   "id": "5917f4efbf52cb8f",
   "outputs": [
    {
     "data": {
      "text/plain": [
       "                                        conversation customer_sentiment\n",
       "0  Agent: Thank you for calling BrownBox Customer...            neutral\n",
       "1  Agent: Thank you for calling BrownBox customer...            neutral\n",
       "2  Agent: Thank you for calling BrownBox Customer...            neutral"
      ],
      "text/html": [
       "<div>\n",
       "<style scoped>\n",
       "    .dataframe tbody tr th:only-of-type {\n",
       "        vertical-align: middle;\n",
       "    }\n",
       "\n",
       "    .dataframe tbody tr th {\n",
       "        vertical-align: top;\n",
       "    }\n",
       "\n",
       "    .dataframe thead th {\n",
       "        text-align: right;\n",
       "    }\n",
       "</style>\n",
       "<table border=\"1\" class=\"dataframe\">\n",
       "  <thead>\n",
       "    <tr style=\"text-align: right;\">\n",
       "      <th></th>\n",
       "      <th>conversation</th>\n",
       "      <th>customer_sentiment</th>\n",
       "    </tr>\n",
       "  </thead>\n",
       "  <tbody>\n",
       "    <tr>\n",
       "      <th>0</th>\n",
       "      <td>Agent: Thank you for calling BrownBox Customer...</td>\n",
       "      <td>neutral</td>\n",
       "    </tr>\n",
       "    <tr>\n",
       "      <th>1</th>\n",
       "      <td>Agent: Thank you for calling BrownBox customer...</td>\n",
       "      <td>neutral</td>\n",
       "    </tr>\n",
       "    <tr>\n",
       "      <th>2</th>\n",
       "      <td>Agent: Thank you for calling BrownBox Customer...</td>\n",
       "      <td>neutral</td>\n",
       "    </tr>\n",
       "  </tbody>\n",
       "</table>\n",
       "</div>"
      ]
     },
     "execution_count": 5,
     "metadata": {},
     "output_type": "execute_result"
    }
   ],
   "execution_count": 5
  },
  {
   "metadata": {
    "ExecuteTime": {
     "end_time": "2025-04-01T22:55:09.673034Z",
     "start_time": "2025-04-01T22:55:09.669104Z"
    }
   },
   "cell_type": "code",
   "source": "df_test.head(3)",
   "id": "5aa792dfc8cee8bd",
   "outputs": [
    {
     "data": {
      "text/plain": [
       "                                        conversation customer_sentiment\n",
       "0  Agent: Thank you for calling BrownBox Customer...           negative\n",
       "1  Agent: Thank you for calling BrownBox Customer...           negative\n",
       "2  Agent: Thank you for calling BrownBox Customer...           negative"
      ],
      "text/html": [
       "<div>\n",
       "<style scoped>\n",
       "    .dataframe tbody tr th:only-of-type {\n",
       "        vertical-align: middle;\n",
       "    }\n",
       "\n",
       "    .dataframe tbody tr th {\n",
       "        vertical-align: top;\n",
       "    }\n",
       "\n",
       "    .dataframe thead th {\n",
       "        text-align: right;\n",
       "    }\n",
       "</style>\n",
       "<table border=\"1\" class=\"dataframe\">\n",
       "  <thead>\n",
       "    <tr style=\"text-align: right;\">\n",
       "      <th></th>\n",
       "      <th>conversation</th>\n",
       "      <th>customer_sentiment</th>\n",
       "    </tr>\n",
       "  </thead>\n",
       "  <tbody>\n",
       "    <tr>\n",
       "      <th>0</th>\n",
       "      <td>Agent: Thank you for calling BrownBox Customer...</td>\n",
       "      <td>negative</td>\n",
       "    </tr>\n",
       "    <tr>\n",
       "      <th>1</th>\n",
       "      <td>Agent: Thank you for calling BrownBox Customer...</td>\n",
       "      <td>negative</td>\n",
       "    </tr>\n",
       "    <tr>\n",
       "      <th>2</th>\n",
       "      <td>Agent: Thank you for calling BrownBox Customer...</td>\n",
       "      <td>negative</td>\n",
       "    </tr>\n",
       "  </tbody>\n",
       "</table>\n",
       "</div>"
      ]
     },
     "execution_count": 6,
     "metadata": {},
     "output_type": "execute_result"
    }
   ],
   "execution_count": 6
  },
  {
   "metadata": {},
   "cell_type": "markdown",
   "source": "Since our target values in string format, we should encode our labels. To avoid ambiguous labels, we will use a standardized map for label encoding for bot datasets. ('neutral': 0, 'positive': 1, 'negative': 2)",
   "id": "fca5fa2163fad47e"
  },
  {
   "metadata": {
    "ExecuteTime": {
     "end_time": "2025-04-01T22:55:09.721131Z",
     "start_time": "2025-04-01T22:55:09.715065Z"
    }
   },
   "cell_type": "code",
   "source": [
    "df_train_le = encode_labels(df_train, target)\n",
    "df_train_le.head(3)"
   ],
   "id": "c18fb3842dad6857",
   "outputs": [
    {
     "data": {
      "text/plain": [
       "                                        conversation  customer_sentiment\n",
       "0  Agent: Thank you for calling BrownBox Customer...                   0\n",
       "1  Agent: Thank you for calling BrownBox customer...                   0\n",
       "2  Agent: Thank you for calling BrownBox Customer...                   0"
      ],
      "text/html": [
       "<div>\n",
       "<style scoped>\n",
       "    .dataframe tbody tr th:only-of-type {\n",
       "        vertical-align: middle;\n",
       "    }\n",
       "\n",
       "    .dataframe tbody tr th {\n",
       "        vertical-align: top;\n",
       "    }\n",
       "\n",
       "    .dataframe thead th {\n",
       "        text-align: right;\n",
       "    }\n",
       "</style>\n",
       "<table border=\"1\" class=\"dataframe\">\n",
       "  <thead>\n",
       "    <tr style=\"text-align: right;\">\n",
       "      <th></th>\n",
       "      <th>conversation</th>\n",
       "      <th>customer_sentiment</th>\n",
       "    </tr>\n",
       "  </thead>\n",
       "  <tbody>\n",
       "    <tr>\n",
       "      <th>0</th>\n",
       "      <td>Agent: Thank you for calling BrownBox Customer...</td>\n",
       "      <td>0</td>\n",
       "    </tr>\n",
       "    <tr>\n",
       "      <th>1</th>\n",
       "      <td>Agent: Thank you for calling BrownBox customer...</td>\n",
       "      <td>0</td>\n",
       "    </tr>\n",
       "    <tr>\n",
       "      <th>2</th>\n",
       "      <td>Agent: Thank you for calling BrownBox Customer...</td>\n",
       "      <td>0</td>\n",
       "    </tr>\n",
       "  </tbody>\n",
       "</table>\n",
       "</div>"
      ]
     },
     "execution_count": 7,
     "metadata": {},
     "output_type": "execute_result"
    }
   ],
   "execution_count": 7
  },
  {
   "metadata": {
    "ExecuteTime": {
     "end_time": "2025-04-01T22:55:09.802563Z",
     "start_time": "2025-04-01T22:55:09.797001Z"
    }
   },
   "cell_type": "code",
   "source": [
    "df_test_le = encode_labels(df_test, target)\n",
    "df_test_le.head(3)"
   ],
   "id": "e8cf5da6b441d7a7",
   "outputs": [
    {
     "data": {
      "text/plain": [
       "                                        conversation  customer_sentiment\n",
       "0  Agent: Thank you for calling BrownBox Customer...                   2\n",
       "1  Agent: Thank you for calling BrownBox Customer...                   2\n",
       "2  Agent: Thank you for calling BrownBox Customer...                   2"
      ],
      "text/html": [
       "<div>\n",
       "<style scoped>\n",
       "    .dataframe tbody tr th:only-of-type {\n",
       "        vertical-align: middle;\n",
       "    }\n",
       "\n",
       "    .dataframe tbody tr th {\n",
       "        vertical-align: top;\n",
       "    }\n",
       "\n",
       "    .dataframe thead th {\n",
       "        text-align: right;\n",
       "    }\n",
       "</style>\n",
       "<table border=\"1\" class=\"dataframe\">\n",
       "  <thead>\n",
       "    <tr style=\"text-align: right;\">\n",
       "      <th></th>\n",
       "      <th>conversation</th>\n",
       "      <th>customer_sentiment</th>\n",
       "    </tr>\n",
       "  </thead>\n",
       "  <tbody>\n",
       "    <tr>\n",
       "      <th>0</th>\n",
       "      <td>Agent: Thank you for calling BrownBox Customer...</td>\n",
       "      <td>2</td>\n",
       "    </tr>\n",
       "    <tr>\n",
       "      <th>1</th>\n",
       "      <td>Agent: Thank you for calling BrownBox Customer...</td>\n",
       "      <td>2</td>\n",
       "    </tr>\n",
       "    <tr>\n",
       "      <th>2</th>\n",
       "      <td>Agent: Thank you for calling BrownBox Customer...</td>\n",
       "      <td>2</td>\n",
       "    </tr>\n",
       "  </tbody>\n",
       "</table>\n",
       "</div>"
      ]
     },
     "execution_count": 8,
     "metadata": {},
     "output_type": "execute_result"
    }
   ],
   "execution_count": 8
  },
  {
   "metadata": {},
   "cell_type": "markdown",
   "source": [
    "As you can see, neutral values are converted to zeros, and negative values are converted to twos.\n",
    "\n",
    "Now we can start to clean our data. There are so many repetitive sentences in our data, like opening lines. As first step, we can remove them. While doing this, we will use regular expressions. Sentences like \"After a few seconds\" repeats in conversation many times, but we will hold this information, since its probably has an effect on customer sentiment.\n",
    "\n",
    "At first, we should cast conversation values to string."
   ],
   "id": "ca3d906c050cba2d"
  },
  {
   "metadata": {
    "ExecuteTime": {
     "end_time": "2025-04-01T22:55:10.082661Z",
     "start_time": "2025-04-01T22:55:09.945133Z"
    }
   },
   "cell_type": "code",
   "source": [
    "df_train_cleaned = df_train_le.copy()\n",
    "df_train_cleaned[\"conversation\"] = df_train_cleaned[\"conversation\"].str.lower()\n",
    "df_train_cleaned[\"conversation\"] = df_train_cleaned[\"conversation\"].apply(remove_redundant_lines)\n",
    "\n",
    "df_test_cleaned = df_test_le.copy()\n",
    "df_test_cleaned[\"conversation\"] = df_test_cleaned[\"conversation\"].str.lower()\n",
    "df_test_cleaned[\"conversation\"] = df_test_cleaned[\"conversation\"].apply(remove_redundant_lines)"
   ],
   "id": "d3e8aee91801f410",
   "outputs": [],
   "execution_count": 9
  },
  {
   "metadata": {
    "ExecuteTime": {
     "end_time": "2025-04-01T22:55:10.148409Z",
     "start_time": "2025-04-01T22:55:10.144008Z"
    }
   },
   "cell_type": "code",
   "source": "df_train_cleaned.head(3)",
   "id": "11e3007fff32b8a5",
   "outputs": [
    {
     "data": {
      "text/plain": [
       "                                        conversation  customer_sentiment\n",
       "0  C: hi tom, i'm trying to log in to my account ...                   0\n",
       "1  C: hi alex. i recently received an email from ...                   0\n",
       "2  C: hi sarah, i am calling because i am unable ...                   0"
      ],
      "text/html": [
       "<div>\n",
       "<style scoped>\n",
       "    .dataframe tbody tr th:only-of-type {\n",
       "        vertical-align: middle;\n",
       "    }\n",
       "\n",
       "    .dataframe tbody tr th {\n",
       "        vertical-align: top;\n",
       "    }\n",
       "\n",
       "    .dataframe thead th {\n",
       "        text-align: right;\n",
       "    }\n",
       "</style>\n",
       "<table border=\"1\" class=\"dataframe\">\n",
       "  <thead>\n",
       "    <tr style=\"text-align: right;\">\n",
       "      <th></th>\n",
       "      <th>conversation</th>\n",
       "      <th>customer_sentiment</th>\n",
       "    </tr>\n",
       "  </thead>\n",
       "  <tbody>\n",
       "    <tr>\n",
       "      <th>0</th>\n",
       "      <td>C: hi tom, i'm trying to log in to my account ...</td>\n",
       "      <td>0</td>\n",
       "    </tr>\n",
       "    <tr>\n",
       "      <th>1</th>\n",
       "      <td>C: hi alex. i recently received an email from ...</td>\n",
       "      <td>0</td>\n",
       "    </tr>\n",
       "    <tr>\n",
       "      <th>2</th>\n",
       "      <td>C: hi sarah, i am calling because i am unable ...</td>\n",
       "      <td>0</td>\n",
       "    </tr>\n",
       "  </tbody>\n",
       "</table>\n",
       "</div>"
      ]
     },
     "execution_count": 10,
     "metadata": {},
     "output_type": "execute_result"
    }
   ],
   "execution_count": 10
  },
  {
   "metadata": {
    "ExecuteTime": {
     "end_time": "2025-04-01T22:55:10.254062Z",
     "start_time": "2025-04-01T22:55:10.249275Z"
    }
   },
   "cell_type": "code",
   "source": "df_test_cleaned.head(3)",
   "id": "7de153fdd4825f92",
   "outputs": [
    {
     "data": {
      "text/plain": [
       "                                        conversation  customer_sentiment\n",
       "0  C: hi, sarah. i am calling because i am intere...                   2\n",
       "1  C: hi sarah, my name is john. i'm having troub...                   2\n",
       "2  C: hi jane, i am calling regarding the refund ...                   2"
      ],
      "text/html": [
       "<div>\n",
       "<style scoped>\n",
       "    .dataframe tbody tr th:only-of-type {\n",
       "        vertical-align: middle;\n",
       "    }\n",
       "\n",
       "    .dataframe tbody tr th {\n",
       "        vertical-align: top;\n",
       "    }\n",
       "\n",
       "    .dataframe thead th {\n",
       "        text-align: right;\n",
       "    }\n",
       "</style>\n",
       "<table border=\"1\" class=\"dataframe\">\n",
       "  <thead>\n",
       "    <tr style=\"text-align: right;\">\n",
       "      <th></th>\n",
       "      <th>conversation</th>\n",
       "      <th>customer_sentiment</th>\n",
       "    </tr>\n",
       "  </thead>\n",
       "  <tbody>\n",
       "    <tr>\n",
       "      <th>0</th>\n",
       "      <td>C: hi, sarah. i am calling because i am intere...</td>\n",
       "      <td>2</td>\n",
       "    </tr>\n",
       "    <tr>\n",
       "      <th>1</th>\n",
       "      <td>C: hi sarah, my name is john. i'm having troub...</td>\n",
       "      <td>2</td>\n",
       "    </tr>\n",
       "    <tr>\n",
       "      <th>2</th>\n",
       "      <td>C: hi jane, i am calling regarding the refund ...</td>\n",
       "      <td>2</td>\n",
       "    </tr>\n",
       "  </tbody>\n",
       "</table>\n",
       "</div>"
      ]
     },
     "execution_count": 11,
     "metadata": {},
     "output_type": "execute_result"
    }
   ],
   "execution_count": 11
  },
  {
   "metadata": {},
   "cell_type": "markdown",
   "source": "Cleaning the data phase is complete. Now we can split our data into train and validation datasets.",
   "id": "eca606a23622dac8"
  },
  {
   "metadata": {
    "ExecuteTime": {
     "end_time": "2025-04-01T22:55:10.306731Z",
     "start_time": "2025-04-01T22:55:10.296070Z"
    }
   },
   "cell_type": "code",
   "source": [
    "df_train_final, df_val_final = train_val_split(df_train_cleaned, target=target)\n",
    "df_test_final = df_test_cleaned.copy()\n",
    "\n",
    "df_train_final.info()\n",
    "df_val_final.info()\n",
    "df_test_final.info()"
   ],
   "id": "be9171cec238e2ab",
   "outputs": [
    {
     "name": "stdout",
     "output_type": "stream",
     "text": [
      "<class 'pandas.core.frame.DataFrame'>\n",
      "Index: 776 entries, 854 to 817\n",
      "Data columns (total 2 columns):\n",
      " #   Column              Non-Null Count  Dtype \n",
      "---  ------              --------------  ----- \n",
      " 0   conversation        776 non-null    object\n",
      " 1   customer_sentiment  776 non-null    uint8 \n",
      "dtypes: object(1), uint8(1)\n",
      "memory usage: 12.9+ KB\n",
      "<class 'pandas.core.frame.DataFrame'>\n",
      "Index: 194 entries, 307 to 835\n",
      "Data columns (total 2 columns):\n",
      " #   Column              Non-Null Count  Dtype \n",
      "---  ------              --------------  ----- \n",
      " 0   conversation        194 non-null    object\n",
      " 1   customer_sentiment  194 non-null    uint8 \n",
      "dtypes: object(1), uint8(1)\n",
      "memory usage: 3.2+ KB\n",
      "<class 'pandas.core.frame.DataFrame'>\n",
      "RangeIndex: 30 entries, 0 to 29\n",
      "Data columns (total 2 columns):\n",
      " #   Column              Non-Null Count  Dtype \n",
      "---  ------              --------------  ----- \n",
      " 0   conversation        30 non-null     object\n",
      " 1   customer_sentiment  30 non-null     uint8 \n",
      "dtypes: object(1), uint8(1)\n",
      "memory usage: 398.0+ bytes\n"
     ]
    }
   ],
   "execution_count": 12
  },
  {
   "metadata": {},
   "cell_type": "markdown",
   "source": "Next step is encoding all datasets with gpt-2's tiktoken encoder and saving datasets to wandb.",
   "id": "d70fa730154a4063"
  },
  {
   "metadata": {
    "ExecuteTime": {
     "end_time": "2025-04-01T22:55:10.537771Z",
     "start_time": "2025-04-01T22:55:10.400576Z"
    }
   },
   "cell_type": "code",
   "source": [
    "df_train_final[\"conversation\"] = df_train_final[\"conversation\"].apply(encode_texts)\n",
    "df_val_final[\"conversation\"] = df_val_final[\"conversation\"].apply(encode_texts)\n",
    "df_test_final[\"conversation\"] = df_test_final[\"conversation\"].apply(encode_texts)"
   ],
   "id": "ed33d91dad4fd6be",
   "outputs": [],
   "execution_count": 13
  },
  {
   "metadata": {
    "ExecuteTime": {
     "end_time": "2025-04-01T22:55:14.720628Z",
     "start_time": "2025-04-01T22:55:10.547118Z"
    }
   },
   "cell_type": "code",
   "source": [
    "save_dataset(df_train_final, \"train\")\n",
    "save_dataset(df_val_final, \"val\")\n",
    "save_dataset(df_test_final, \"test\")"
   ],
   "id": "2ef0e43ddf3db540",
   "outputs": [],
   "execution_count": 14
  },
  {
   "metadata": {},
   "cell_type": "markdown",
   "source": "TODO: explain dataset",
   "id": "72aea7dd4381ce64"
  },
  {
   "metadata": {
    "ExecuteTime": {
     "end_time": "2025-04-01T22:55:14.743821Z",
     "start_time": "2025-04-01T22:55:14.742071Z"
    }
   },
   "cell_type": "code",
   "source": "",
   "id": "4eadc3e96ad49510",
   "outputs": [],
   "execution_count": null
  },
  {
   "metadata": {},
   "cell_type": "markdown",
   "source": "TODO: summarize process",
   "id": "b1d33f8bb400051f"
  }
 ],
 "metadata": {
  "kernelspec": {
   "display_name": "Python 3",
   "language": "python",
   "name": "python3"
  },
  "language_info": {
   "codemirror_mode": {
    "name": "ipython",
    "version": 2
   },
   "file_extension": ".py",
   "mimetype": "text/x-python",
   "name": "python",
   "nbconvert_exporter": "python",
   "pygments_lexer": "ipython2",
   "version": "2.7.6"
  }
 },
 "nbformat": 4,
 "nbformat_minor": 5
}
