{
 "cells": [
  {
   "metadata": {},
   "cell_type": "markdown",
   "source": [
    "In this notebook, we will train a new sentiment classifier model from scratch with using nanoGPT as baseline. Since our task is training a sentiment classification model, we should modify the original nanoGPT architecture.\n",
    "\n",
    "If you didn't install the required packages before, you can with the commented out line below. Otherwise, you will get errors at the first import."
   ],
   "id": "64b85942fc46b200"
  },
  {
   "metadata": {
    "ExecuteTime": {
     "end_time": "2025-04-03T21:39:08.277352Z",
     "start_time": "2025-04-03T21:39:08.274947Z"
    }
   },
   "cell_type": "code",
   "source": "#!pip install torch numpy transformers datasets tiktoken wandb tqdm matplotlib seaborn scipy scikit-learn emoji",
   "id": "a30032107e8f840a",
   "outputs": [],
   "execution_count": 1
  },
  {
   "metadata": {
    "ExecuteTime": {
     "end_time": "2025-04-03T21:39:10.487444Z",
     "start_time": "2025-04-03T21:39:08.287503Z"
    }
   },
   "cell_type": "code",
   "source": [
    "import wandb\n",
    "import pickle\n",
    "import tiktoken\n",
    "import torch\n",
    "from torch.utils.data import DataLoader\n",
    "from models.train_from_scratch import train\n",
    "from data.utils.prepare_from_scratch import prepare_data\n",
    "from data.utils.dataset import CustomerSentimentDataset\n",
    "from models.evaluate_from_scratch import plot_confusion_matrix, evaluate"
   ],
   "id": "49455ffd3ac633a3",
   "outputs": [
    {
     "name": "stderr",
     "output_type": "stream",
     "text": [
      "[nltk_data] Downloading package stopwords to /home/eren/nltk_data...\n",
      "[nltk_data]   Package stopwords is already up-to-date!\n",
      "[nltk_data] Downloading package wordnet to /home/eren/nltk_data...\n",
      "[nltk_data]   Package wordnet is already up-to-date!\n"
     ]
    }
   ],
   "execution_count": 2
  },
  {
   "metadata": {},
   "cell_type": "markdown",
   "source": "At first, we will load our data.",
   "id": "a6c96a45a75e49b5"
  },
  {
   "metadata": {
    "ExecuteTime": {
     "end_time": "2025-04-03T21:39:13.947625Z",
     "start_time": "2025-04-03T21:39:10.524720Z"
    }
   },
   "cell_type": "code",
   "source": [
    "df_input = prepare_data()\n",
    "df_input.info()"
   ],
   "id": "c68808e4eb54c5b1",
   "outputs": [
    {
     "name": "stdout",
     "output_type": "stream",
     "text": [
      "<class 'pandas.core.frame.DataFrame'>\n",
      "RangeIndex: 1000 entries, 0 to 999\n",
      "Data columns (total 14 columns):\n",
      " #   Column                       Non-Null Count  Dtype \n",
      "---  ------                       --------------  ----- \n",
      " 0   issue_area                   1000 non-null   object\n",
      " 1   issue_category               1000 non-null   object\n",
      " 2   issue_sub_category           1000 non-null   object\n",
      " 3   issue_category_sub_category  1000 non-null   object\n",
      " 4   customer_sentiment           1000 non-null   object\n",
      " 5   product_category             1000 non-null   object\n",
      " 6   product_sub_category         1000 non-null   object\n",
      " 7   issue_complexity             1000 non-null   object\n",
      " 8   agent_experience_level       1000 non-null   object\n",
      " 9   agent_experience_level_desc  1000 non-null   object\n",
      " 10  conversation                 1000 non-null   object\n",
      " 11  data_split_type              1000 non-null   object\n",
      " 12  sentiment                    1000 non-null   int64 \n",
      " 13  text_cleaned                 1000 non-null   object\n",
      "dtypes: int64(1), object(13)\n",
      "memory usage: 109.5+ KB\n"
     ]
    }
   ],
   "execution_count": 3
  },
  {
   "metadata": {},
   "cell_type": "markdown",
   "source": [
    "There are 1000 observations in train and test datasets in sum. We investigated the data in [1_eda.ipynb](1_eda.ipynb) and [2_preprocessing.ipynb](2_preprocessing.ipynb) notebooks, so we won't repeat that steps here.\n",
    "\n",
    "During training, we will use W&B for hyperparameter optimization. Before training, we should define our parameters and parameter values to be tested. During development process, different parameters and values have tested. At below, only the best configuration of the parameter values have given."
   ],
   "id": "f16805106e7ecfd3"
  },
  {
   "metadata": {
    "ExecuteTime": {
     "end_time": "2025-04-03T21:39:13.955524Z",
     "start_time": "2025-04-03T21:39:13.952369Z"
    }
   },
   "cell_type": "code",
   "source": [
    "sweep_config = {\n",
    "    'method': 'grid',\n",
    "    'parameters': {\n",
    "        'epochs': {\n",
    "            'value': 50\n",
    "        },\n",
    "        'batch_size': {\n",
    "            'values': [32]\n",
    "        },\n",
    "        'vocab_size': {\n",
    "            'values': [50304]\n",
    "        },\n",
    "        'block_size': {\n",
    "            'values': [1024]\n",
    "        },\n",
    "        'n_layer': {\n",
    "            'values': [6]\n",
    "        },\n",
    "        'n_head': {\n",
    "            'values': [6]\n",
    "        },\n",
    "        'n_embd': {\n",
    "            'values': [384]\n",
    "        },\n",
    "        'dropout': {\n",
    "            'values': [0.3]\n",
    "        },\n",
    "        'learning_rate': {\n",
    "            'values': [0.0001]\n",
    "        },\n",
    "        'weight_decay': {\n",
    "            'values': [0.01]\n",
    "        },\n",
    "        'max_grad_norm': {\n",
    "            'values': [1.0]\n",
    "        },\n",
    "        'beta1': {\n",
    "            'values': [0.9]\n",
    "        },\n",
    "        'beta2': {\n",
    "            'values': [0.999]\n",
    "        },\n",
    "        'init_from': {\n",
    "            'value': 'scratch'\n",
    "        },\n",
    "    }\n",
    "}"
   ],
   "id": "2643bbcf0fcee0db",
   "outputs": [],
   "execution_count": 4
  },
  {
   "metadata": {},
   "cell_type": "markdown",
   "source": "We defined a train() method that is compatible with W&B and trains and evaluates the model. This method also saves the best performed model to local storage. Also, all metrics and charts will be saved to W&B. Now, we can start our training process.",
   "id": "f1ea01a6d52a91c5"
  },
  {
   "metadata": {
    "ExecuteTime": {
     "end_time": "2025-04-03T21:52:12.546460Z",
     "start_time": "2025-04-03T21:39:14.000932Z"
    }
   },
   "cell_type": "code",
   "source": [
    "sweep_id = wandb.sweep(sweep_config, project=\"DI725_assignment_1_2389088_from_scratch\")\n",
    "wandb.agent(sweep_id=sweep_id, function=train)"
   ],
   "id": "8e147c2d82cbe37d",
   "outputs": [
    {
     "name": "stderr",
     "output_type": "stream",
     "text": [
      "\u001B[34m\u001B[1mwandb\u001B[0m: Using wandb-core as the SDK backend.  Please refer to https://wandb.me/wandb-core for more information.\n"
     ]
    },
    {
     "name": "stdout",
     "output_type": "stream",
     "text": [
      "Create sweep with ID: 9kjr5i1v\n",
      "Sweep URL: https://wandb.ai/erennarin-92-metu-middle-east-technical-university/DI725_assignment_1_2389088_from_scratch/sweeps/9kjr5i1v\n"
     ]
    },
    {
     "name": "stderr",
     "output_type": "stream",
     "text": [
      "\u001B[34m\u001B[1mwandb\u001B[0m: Agent Starting Run: j5jcb5ie with config:\n",
      "\u001B[34m\u001B[1mwandb\u001B[0m: \tbatch_size: 32\n",
      "\u001B[34m\u001B[1mwandb\u001B[0m: \tbeta1: 0.9\n",
      "\u001B[34m\u001B[1mwandb\u001B[0m: \tbeta2: 0.999\n",
      "\u001B[34m\u001B[1mwandb\u001B[0m: \tblock_size: 1024\n",
      "\u001B[34m\u001B[1mwandb\u001B[0m: \tdropout: 0.3\n",
      "\u001B[34m\u001B[1mwandb\u001B[0m: \tepochs: 50\n",
      "\u001B[34m\u001B[1mwandb\u001B[0m: \tinit_from: scratch\n",
      "\u001B[34m\u001B[1mwandb\u001B[0m: \tlearning_rate: 0.0001\n",
      "\u001B[34m\u001B[1mwandb\u001B[0m: \tmax_grad_norm: 1\n",
      "\u001B[34m\u001B[1mwandb\u001B[0m: \tn_embd: 384\n",
      "\u001B[34m\u001B[1mwandb\u001B[0m: \tn_head: 6\n",
      "\u001B[34m\u001B[1mwandb\u001B[0m: \tn_layer: 6\n",
      "\u001B[34m\u001B[1mwandb\u001B[0m: \tvocab_size: 50304\n",
      "\u001B[34m\u001B[1mwandb\u001B[0m: \tweight_decay: 0.01\n",
      "\u001B[34m\u001B[1mwandb\u001B[0m: Currently logged in as: \u001B[33merennarin-92\u001B[0m (\u001B[33merennarin-92-metu-middle-east-technical-university\u001B[0m) to \u001B[32mhttps://api.wandb.ai\u001B[0m. Use \u001B[1m`wandb login --relogin`\u001B[0m to force relogin\n"
     ]
    },
    {
     "data": {
      "text/plain": [
       "<IPython.core.display.HTML object>"
      ],
      "text/html": [
       "Ignoring project 'DI725_assignment_1_2389088_from_scratch' when running a sweep."
      ]
     },
     "metadata": {},
     "output_type": "display_data"
    },
    {
     "data": {
      "text/plain": [
       "<IPython.core.display.HTML object>"
      ],
      "text/html": [
       "Tracking run with wandb version 0.19.8"
      ]
     },
     "metadata": {},
     "output_type": "display_data"
    },
    {
     "data": {
      "text/plain": [
       "<IPython.core.display.HTML object>"
      ],
      "text/html": [
       "Run data is saved locally in <code>/home/eren/Drive/METU/Courses/[DI 725] Transformers and Attention-Based Deep Networks/Assignments/Assignment 1/DI725_assignment1/notebooks/wandb/run-20250404_003916-j5jcb5ie</code>"
      ]
     },
     "metadata": {},
     "output_type": "display_data"
    },
    {
     "data": {
      "text/plain": [
       "<IPython.core.display.HTML object>"
      ],
      "text/html": [
       "Syncing run <strong><a href='https://wandb.ai/erennarin-92-metu-middle-east-technical-university/DI725_assignment_1_2389088_from_scratch/runs/j5jcb5ie' target=\"_blank\">comfy-sweep-1</a></strong> to <a href='https://wandb.ai/erennarin-92-metu-middle-east-technical-university/DI725_assignment_1_2389088_from_scratch' target=\"_blank\">Weights & Biases</a> (<a href='https://wandb.me/developer-guide' target=\"_blank\">docs</a>)<br>Sweep page: <a href='https://wandb.ai/erennarin-92-metu-middle-east-technical-university/DI725_assignment_1_2389088_from_scratch/sweeps/9kjr5i1v' target=\"_blank\">https://wandb.ai/erennarin-92-metu-middle-east-technical-university/DI725_assignment_1_2389088_from_scratch/sweeps/9kjr5i1v</a>"
      ]
     },
     "metadata": {},
     "output_type": "display_data"
    },
    {
     "data": {
      "text/plain": [
       "<IPython.core.display.HTML object>"
      ],
      "text/html": [
       " View project at <a href='https://wandb.ai/erennarin-92-metu-middle-east-technical-university/DI725_assignment_1_2389088_from_scratch' target=\"_blank\">https://wandb.ai/erennarin-92-metu-middle-east-technical-university/DI725_assignment_1_2389088_from_scratch</a>"
      ]
     },
     "metadata": {},
     "output_type": "display_data"
    },
    {
     "data": {
      "text/plain": [
       "<IPython.core.display.HTML object>"
      ],
      "text/html": [
       " View sweep at <a href='https://wandb.ai/erennarin-92-metu-middle-east-technical-university/DI725_assignment_1_2389088_from_scratch/sweeps/9kjr5i1v' target=\"_blank\">https://wandb.ai/erennarin-92-metu-middle-east-technical-university/DI725_assignment_1_2389088_from_scratch/sweeps/9kjr5i1v</a>"
      ]
     },
     "metadata": {},
     "output_type": "display_data"
    },
    {
     "data": {
      "text/plain": [
       "<IPython.core.display.HTML object>"
      ],
      "text/html": [
       " View run at <a href='https://wandb.ai/erennarin-92-metu-middle-east-technical-university/DI725_assignment_1_2389088_from_scratch/runs/j5jcb5ie' target=\"_blank\">https://wandb.ai/erennarin-92-metu-middle-east-technical-university/DI725_assignment_1_2389088_from_scratch/runs/j5jcb5ie</a>"
      ]
     },
     "metadata": {},
     "output_type": "display_data"
    },
    {
     "name": "stdout",
     "output_type": "stream",
     "text": [
      "number of parameters: 29.96M\n",
      "num decayed parameter tensors: 27, with 30,327,936 parameters\n",
      "num non-decayed parameter tensors: 50, with 30,720 parameters\n",
      "using fused AdamW: True\n",
      "\n",
      "Epoch 1, Train Loss: 0.79, Train F1 Macro: 0.36, Train Precision Macro: 0.41, Train Recall Macro: 0.46, Train Accuracy: 0.54\n",
      "Epoch 1, Val Loss: 0.76, Val F1 Macro: 0.32, Val Precision Macro: 0.44, Val Recall Macro: 0.37, Val Accuracy: 0.59\n",
      "\n",
      "Epoch 2, Train Loss: 0.72, Train F1 Macro: 0.47, Train Precision Macro: 0.56, Train Recall Macro: 0.54, Train Accuracy: 0.61\n",
      "Epoch 2, Val Loss: 0.89, Val F1 Macro: 0.32, Val Precision Macro: 0.43, Val Recall Macro: 0.37, Val Accuracy: 0.59\n",
      "\n",
      "Epoch 3, Train Loss: 0.69, Train F1 Macro: 0.55, Train Precision Macro: 0.61, Train Recall Macro: 0.59, Train Accuracy: 0.66\n",
      "Epoch 3, Val Loss: 0.72, Val F1 Macro: 0.45, Val Precision Macro: 0.48, Val Recall Macro: 0.46, Val Accuracy: 0.70\n",
      "\n",
      "Epoch 4, Train Loss: 0.58, Train F1 Macro: 0.64, Train Precision Macro: 0.69, Train Recall Macro: 0.65, Train Accuracy: 0.75\n",
      "Epoch 4, Val Loss: 0.97, Val F1 Macro: 0.50, Val Precision Macro: 0.50, Val Recall Macro: 0.52, Val Accuracy: 0.74\n",
      "\n",
      "Epoch 5, Train Loss: 0.54, Train F1 Macro: 0.64, Train Precision Macro: 0.68, Train Recall Macro: 0.66, Train Accuracy: 0.76\n",
      "Epoch 5, Val Loss: 0.70, Val F1 Macro: 0.50, Val Precision Macro: 0.50, Val Recall Macro: 0.52, Val Accuracy: 0.74\n",
      "\n",
      "Epoch 6, Train Loss: 0.48, Train F1 Macro: 0.71, Train Precision Macro: 0.72, Train Recall Macro: 0.72, Train Accuracy: 0.82\n",
      "Epoch 6, Val Loss: 0.57, Val F1 Macro: 0.55, Val Precision Macro: 0.54, Val Recall Macro: 0.56, Val Accuracy: 0.81\n",
      "\n",
      "Epoch 7, Train Loss: 0.44, Train F1 Macro: 0.72, Train Precision Macro: 0.74, Train Recall Macro: 0.72, Train Accuracy: 0.83\n",
      "Epoch 7, Val Loss: 1.34, Val F1 Macro: 0.42, Val Precision Macro: 0.47, Val Recall Macro: 0.46, Val Accuracy: 0.64\n",
      "\n",
      "Epoch 8, Train Loss: 0.36, Train F1 Macro: 0.76, Train Precision Macro: 0.77, Train Recall Macro: 0.76, Train Accuracy: 0.87\n",
      "Epoch 8, Val Loss: 1.41, Val F1 Macro: 0.42, Val Precision Macro: 0.47, Val Recall Macro: 0.46, Val Accuracy: 0.64\n",
      "\n",
      "Epoch 9, Train Loss: 0.30, Train F1 Macro: 0.79, Train Precision Macro: 0.79, Train Recall Macro: 0.79, Train Accuracy: 0.89\n",
      "Epoch 9, Val Loss: 0.71, Val F1 Macro: 0.54, Val Precision Macro: 0.54, Val Recall Macro: 0.56, Val Accuracy: 0.80\n",
      "\n",
      "Epoch 10, Train Loss: 0.26, Train F1 Macro: 0.81, Train Precision Macro: 0.82, Train Recall Macro: 0.82, Train Accuracy: 0.91\n",
      "Epoch 10, Val Loss: 0.96, Val F1 Macro: 0.53, Val Precision Macro: 0.52, Val Recall Macro: 0.54, Val Accuracy: 0.78\n",
      "\n",
      "Epoch 11, Train Loss: 0.30, Train F1 Macro: 0.80, Train Precision Macro: 0.80, Train Recall Macro: 0.81, Train Accuracy: 0.90\n",
      "Epoch 11, Val Loss: 1.19, Val F1 Macro: 0.48, Val Precision Macro: 0.50, Val Recall Macro: 0.50, Val Accuracy: 0.71\n",
      "\n",
      "Epoch 12, Train Loss: 0.22, Train F1 Macro: 0.78, Train Precision Macro: 0.79, Train Recall Macro: 0.79, Train Accuracy: 0.92\n",
      "Epoch 12, Val Loss: 1.42, Val F1 Macro: 0.48, Val Precision Macro: 0.50, Val Recall Macro: 0.50, Val Accuracy: 0.71\n",
      "\n",
      "Epoch 13, Train Loss: 0.35, Train F1 Macro: 0.76, Train Precision Macro: 0.78, Train Recall Macro: 0.77, Train Accuracy: 0.89\n",
      "Epoch 13, Val Loss: 0.77, Val F1 Macro: 0.54, Val Precision Macro: 0.54, Val Recall Macro: 0.56, Val Accuracy: 0.80\n",
      "\n",
      "Epoch 14, Train Loss: 0.19, Train F1 Macro: 0.84, Train Precision Macro: 0.84, Train Recall Macro: 0.84, Train Accuracy: 0.94\n",
      "Epoch 14, Val Loss: 0.92, Val F1 Macro: 0.54, Val Precision Macro: 0.53, Val Recall Macro: 0.55, Val Accuracy: 0.80\n",
      "\n",
      "Epoch 15, Train Loss: 0.19, Train F1 Macro: 0.84, Train Precision Macro: 0.84, Train Recall Macro: 0.84, Train Accuracy: 0.94\n",
      "Epoch 15, Val Loss: 1.30, Val F1 Macro: 0.50, Val Precision Macro: 0.50, Val Recall Macro: 0.52, Val Accuracy: 0.74\n",
      "\n",
      "Epoch 16, Train Loss: 0.14, Train F1 Macro: 0.83, Train Precision Macro: 0.83, Train Recall Macro: 0.84, Train Accuracy: 0.95\n",
      "Epoch 16, Val Loss: 0.98, Val F1 Macro: 0.54, Val Precision Macro: 0.53, Val Recall Macro: 0.55, Val Accuracy: 0.80\n",
      "\n",
      "Epoch 17, Train Loss: 0.25, Train F1 Macro: 0.83, Train Precision Macro: 0.83, Train Recall Macro: 0.83, Train Accuracy: 0.92\n",
      "Epoch 17, Val Loss: 0.83, Val F1 Macro: 0.53, Val Precision Macro: 0.53, Val Recall Macro: 0.53, Val Accuracy: 0.79\n",
      "\n",
      "Epoch 18, Train Loss: 0.14, Train F1 Macro: 0.82, Train Precision Macro: 0.82, Train Recall Macro: 0.83, Train Accuracy: 0.95\n",
      "Epoch 18, Val Loss: 0.83, Val F1 Macro: 0.55, Val Precision Macro: 0.54, Val Recall Macro: 0.56, Val Accuracy: 0.82\n",
      "\n",
      "Epoch 19, Train Loss: 0.10, Train F1 Macro: 0.86, Train Precision Macro: 0.86, Train Recall Macro: 0.86, Train Accuracy: 0.97\n",
      "Epoch 19, Val Loss: 1.40, Val F1 Macro: 0.53, Val Precision Macro: 0.53, Val Recall Macro: 0.55, Val Accuracy: 0.78\n",
      "\n",
      "Epoch 20, Train Loss: 0.15, Train F1 Macro: 0.83, Train Precision Macro: 0.82, Train Recall Macro: 0.83, Train Accuracy: 0.96\n",
      "Epoch 20, Val Loss: 1.40, Val F1 Macro: 0.51, Val Precision Macro: 0.52, Val Recall Macro: 0.53, Val Accuracy: 0.76\n",
      "\n",
      "Epoch 21, Train Loss: 0.12, Train F1 Macro: 0.83, Train Precision Macro: 0.83, Train Recall Macro: 0.84, Train Accuracy: 0.96\n",
      "Epoch 21, Val Loss: 1.19, Val F1 Macro: 0.51, Val Precision Macro: 0.52, Val Recall Macro: 0.53, Val Accuracy: 0.76\n",
      "\n",
      "Epoch 22, Train Loss: 0.09, Train F1 Macro: 0.87, Train Precision Macro: 0.87, Train Recall Macro: 0.88, Train Accuracy: 0.97\n",
      "Epoch 22, Val Loss: 0.98, Val F1 Macro: 0.54, Val Precision Macro: 0.54, Val Recall Macro: 0.56, Val Accuracy: 0.80\n",
      "\n",
      "Epoch 23, Train Loss: 0.11, Train F1 Macro: 0.84, Train Precision Macro: 0.83, Train Recall Macro: 0.84, Train Accuracy: 0.97\n",
      "Epoch 23, Val Loss: 1.38, Val F1 Macro: 0.52, Val Precision Macro: 0.52, Val Recall Macro: 0.53, Val Accuracy: 0.76\n",
      "\n",
      "Epoch 24, Train Loss: 0.07, Train F1 Macro: 0.88, Train Precision Macro: 0.88, Train Recall Macro: 0.88, Train Accuracy: 0.97\n",
      "Epoch 24, Val Loss: 1.49, Val F1 Macro: 0.61, Val Precision Macro: 0.84, Val Recall Macro: 0.58, Val Accuracy: 0.74\n",
      "\n",
      "Epoch 25, Train Loss: 0.08, Train F1 Macro: 0.90, Train Precision Macro: 0.90, Train Recall Macro: 0.91, Train Accuracy: 0.98\n",
      "Epoch 25, Val Loss: 1.07, Val F1 Macro: 0.54, Val Precision Macro: 0.54, Val Recall Macro: 0.56, Val Accuracy: 0.80\n",
      "\n",
      "Epoch 26, Train Loss: 0.04, Train F1 Macro: 0.95, Train Precision Macro: 0.95, Train Recall Macro: 0.95, Train Accuracy: 0.99\n",
      "Epoch 26, Val Loss: 0.84, Val F1 Macro: 0.69, Val Precision Macro: 0.67, Val Recall Macro: 0.75, Val Accuracy: 0.81\n",
      "\n",
      "Epoch 27, Train Loss: 0.03, Train F1 Macro: 0.99, Train Precision Macro: 0.99, Train Recall Macro: 0.99, Train Accuracy: 0.99\n",
      "Epoch 27, Val Loss: 0.99, Val F1 Macro: 0.71, Val Precision Macro: 0.69, Val Recall Macro: 0.76, Val Accuracy: 0.82\n",
      "\n",
      "Epoch 28, Train Loss: 0.03, Train F1 Macro: 0.97, Train Precision Macro: 0.97, Train Recall Macro: 0.97, Train Accuracy: 0.99\n",
      "Epoch 28, Val Loss: 1.21, Val F1 Macro: 0.72, Val Precision Macro: 0.69, Val Recall Macro: 0.81, Val Accuracy: 0.80\n",
      "\n",
      "Epoch 29, Train Loss: 0.03, Train F1 Macro: 0.98, Train Precision Macro: 0.99, Train Recall Macro: 0.99, Train Accuracy: 0.99\n",
      "Epoch 29, Val Loss: 1.01, Val F1 Macro: 0.70, Val Precision Macro: 0.67, Val Recall Macro: 0.80, Val Accuracy: 0.80\n",
      "\n",
      "Epoch 30, Train Loss: 0.04, Train F1 Macro: 0.94, Train Precision Macro: 0.94, Train Recall Macro: 0.94, Train Accuracy: 0.98\n",
      "Epoch 30, Val Loss: 1.12, Val F1 Macro: 0.68, Val Precision Macro: 0.65, Val Recall Macro: 0.74, Val Accuracy: 0.80\n",
      "\n",
      "Epoch 31, Train Loss: 0.02, Train F1 Macro: 0.99, Train Precision Macro: 0.98, Train Recall Macro: 0.99, Train Accuracy: 0.99\n",
      "Epoch 31, Val Loss: 1.63, Val F1 Macro: 0.70, Val Precision Macro: 0.69, Val Recall Macro: 0.75, Val Accuracy: 0.79\n",
      "\n",
      "Epoch 32, Train Loss: 0.02, Train F1 Macro: 0.99, Train Precision Macro: 0.99, Train Recall Macro: 0.99, Train Accuracy: 0.99\n",
      "Epoch 32, Val Loss: 0.98, Val F1 Macro: 0.72, Val Precision Macro: 0.69, Val Recall Macro: 0.76, Val Accuracy: 0.84\n",
      "\n",
      "Epoch 33, Train Loss: 0.01, Train F1 Macro: 0.99, Train Precision Macro: 0.99, Train Recall Macro: 1.00, Train Accuracy: 1.00\n",
      "Epoch 33, Val Loss: 1.31, Val F1 Macro: 0.71, Val Precision Macro: 0.68, Val Recall Macro: 0.76, Val Accuracy: 0.84\n",
      "\n",
      "Epoch 34, Train Loss: 0.04, Train F1 Macro: 0.99, Train Precision Macro: 0.99, Train Recall Macro: 0.99, Train Accuracy: 0.99\n",
      "Epoch 34, Val Loss: 1.39, Val F1 Macro: 0.67, Val Precision Macro: 0.64, Val Recall Macro: 0.74, Val Accuracy: 0.80\n",
      "\n",
      "Epoch 35, Train Loss: 0.03, Train F1 Macro: 0.97, Train Precision Macro: 0.97, Train Recall Macro: 0.97, Train Accuracy: 0.99\n",
      "Epoch 35, Val Loss: 1.06, Val F1 Macro: 0.69, Val Precision Macro: 0.69, Val Recall Macro: 0.70, Val Accuracy: 0.85\n",
      "\n",
      "Epoch 36, Train Loss: 0.11, Train F1 Macro: 0.97, Train Precision Macro: 0.97, Train Recall Macro: 0.97, Train Accuracy: 0.98\n",
      "Epoch 36, Val Loss: 2.59, Val F1 Macro: 0.64, Val Precision Macro: 0.74, Val Recall Macro: 0.64, Val Accuracy: 0.71\n",
      "\n",
      "Epoch 37, Train Loss: 0.01, Train F1 Macro: 0.99, Train Precision Macro: 0.99, Train Recall Macro: 0.99, Train Accuracy: 0.99\n",
      "Epoch 37, Val Loss: 1.18, Val F1 Macro: 0.69, Val Precision Macro: 0.67, Val Recall Macro: 0.71, Val Accuracy: 0.85\n",
      "\n",
      "Epoch 38, Train Loss: 0.01, Train F1 Macro: 1.00, Train Precision Macro: 1.00, Train Recall Macro: 1.00, Train Accuracy: 1.00\n",
      "Epoch 38, Val Loss: 1.22, Val F1 Macro: 0.71, Val Precision Macro: 0.73, Val Recall Macro: 0.70, Val Accuracy: 0.84\n",
      "\n",
      "Epoch 39, Train Loss: 0.03, Train F1 Macro: 0.99, Train Precision Macro: 0.99, Train Recall Macro: 1.00, Train Accuracy: 0.99\n",
      "Epoch 39, Val Loss: 1.14, Val F1 Macro: 0.71, Val Precision Macro: 0.73, Val Recall Macro: 0.70, Val Accuracy: 0.84\n",
      "\n",
      "Epoch 40, Train Loss: 0.01, Train F1 Macro: 1.00, Train Precision Macro: 1.00, Train Recall Macro: 1.00, Train Accuracy: 1.00\n",
      "Epoch 40, Val Loss: 1.66, Val F1 Macro: 0.63, Val Precision Macro: 0.66, Val Recall Macro: 0.62, Val Accuracy: 0.80\n",
      "\n",
      "Epoch 41, Train Loss: 0.01, Train F1 Macro: 1.00, Train Precision Macro: 1.00, Train Recall Macro: 1.00, Train Accuracy: 1.00\n",
      "Epoch 41, Val Loss: 1.41, Val F1 Macro: 0.66, Val Precision Macro: 0.65, Val Recall Macro: 0.67, Val Accuracy: 0.79\n",
      "\n",
      "Epoch 42, Train Loss: 0.01, Train F1 Macro: 1.00, Train Precision Macro: 1.00, Train Recall Macro: 1.00, Train Accuracy: 1.00\n",
      "Epoch 42, Val Loss: 1.78, Val F1 Macro: 0.54, Val Precision Macro: 0.53, Val Recall Macro: 0.55, Val Accuracy: 0.80\n",
      "\n",
      "Epoch 43, Train Loss: 0.01, Train F1 Macro: 0.98, Train Precision Macro: 0.98, Train Recall Macro: 0.98, Train Accuracy: 0.99\n",
      "Epoch 43, Val Loss: 1.82, Val F1 Macro: 0.65, Val Precision Macro: 0.87, Val Recall Macro: 0.62, Val Accuracy: 0.79\n",
      "\n",
      "Epoch 44, Train Loss: 0.04, Train F1 Macro: 0.98, Train Precision Macro: 0.98, Train Recall Macro: 0.98, Train Accuracy: 0.99\n",
      "Epoch 44, Val Loss: 1.44, Val F1 Macro: 0.74, Val Precision Macro: 0.73, Val Recall Macro: 0.77, Val Accuracy: 0.84\n",
      "\n",
      "Epoch 45, Train Loss: 0.03, Train F1 Macro: 0.99, Train Precision Macro: 0.99, Train Recall Macro: 0.99, Train Accuracy: 0.99\n",
      "Epoch 45, Val Loss: 1.28, Val F1 Macro: 0.74, Val Precision Macro: 0.73, Val Recall Macro: 0.76, Val Accuracy: 0.83\n",
      "\n",
      "Epoch 46, Train Loss: 0.02, Train F1 Macro: 1.00, Train Precision Macro: 1.00, Train Recall Macro: 1.00, Train Accuracy: 1.00\n",
      "Epoch 46, Val Loss: 2.02, Val F1 Macro: 0.70, Val Precision Macro: 0.86, Val Recall Macro: 0.67, Val Accuracy: 0.77\n",
      "\n",
      "Epoch 47, Train Loss: 0.01, Train F1 Macro: 0.99, Train Precision Macro: 0.99, Train Recall Macro: 1.00, Train Accuracy: 1.00\n",
      "Epoch 47, Val Loss: 1.64, Val F1 Macro: 0.65, Val Precision Macro: 0.87, Val Recall Macro: 0.62, Val Accuracy: 0.80\n",
      "\n",
      "Epoch 48, Train Loss: 0.04, Train F1 Macro: 0.98, Train Precision Macro: 0.98, Train Recall Macro: 0.98, Train Accuracy: 0.99\n",
      "Epoch 48, Val Loss: 1.69, Val F1 Macro: 0.65, Val Precision Macro: 0.87, Val Recall Macro: 0.62, Val Accuracy: 0.80\n",
      "\n",
      "Epoch 49, Train Loss: 0.00, Train F1 Macro: 1.00, Train Precision Macro: 1.00, Train Recall Macro: 1.00, Train Accuracy: 1.00\n",
      "Epoch 49, Val Loss: 1.28, Val F1 Macro: 0.75, Val Precision Macro: 0.75, Val Recall Macro: 0.75, Val Accuracy: 0.81\n",
      "\n",
      "Epoch 50, Train Loss: 0.01, Train F1 Macro: 1.00, Train Precision Macro: 1.00, Train Recall Macro: 1.00, Train Accuracy: 1.00\n",
      "Epoch 50, Val Loss: 1.85, Val F1 Macro: 0.72, Val Precision Macro: 0.87, Val Recall Macro: 0.68, Val Accuracy: 0.79\n"
     ]
    },
    {
     "data": {
      "text/plain": [
       "<IPython.core.display.HTML object>"
      ],
      "text/html": []
     },
     "metadata": {},
     "output_type": "display_data"
    },
    {
     "data": {
      "text/plain": [
       "<IPython.core.display.HTML object>"
      ],
      "text/html": [
       "<br>    <style><br>        .wandb-row {<br>            display: flex;<br>            flex-direction: row;<br>            flex-wrap: wrap;<br>            justify-content: flex-start;<br>            width: 100%;<br>        }<br>        .wandb-col {<br>            display: flex;<br>            flex-direction: column;<br>            flex-basis: 100%;<br>            flex: 1;<br>            padding: 10px;<br>        }<br>    </style><br><div class=\"wandb-row\"><div class=\"wandb-col\"><h3>Run history:</h3><br/><table class=\"wandb\"><tr><td>epoch</td><td>▁▁▁▁▂▂▂▂▂▂▃▃▃▃▃▄▄▄▄▄▅▅▅▅▅▆▆▆▆▆▆▇▇▇▇▇▇███</td></tr><tr><td>train_accuracy</td><td>▁▂▄▄▅▆▇▇▇▆▇▇▇▇█▇████████████████████████</td></tr><tr><td>train_f1_macro</td><td>▁▂▃▄▄▅▅▆▆▆▆▆▆▆▆▆▆▇▆▇▇███▇███████████████</td></tr><tr><td>train_loss</td><td>█▇▆▆▅▄▄▃▄▃▃▃▂▃▂▂▂▂▂▂▁▁▁▁▁▁▁▁▁▂▁▁▁▁▁▁▁▁▁▁</td></tr><tr><td>train_precision_macro</td><td>▁▃▃▄▄▅▅▆▆▆▅▆▆▆▆▆▆▆▆▆▇▇██████████████████</td></tr><tr><td>train_recall_macro</td><td>▁▂▃▄▄▄▅▅▆▅▆▆▆▆▆▆▆▆▆▇███▇████████████████</td></tr><tr><td>val_accuracy</td><td>▁▁▄▅▅▂▂▇▆▄▇▇▅▇▇▆▆▆▇▆▇▇▇▇▇██▇█▄██▇▇▇█▆▇▇▇</td></tr><tr><td>val_f1_macro</td><td>▁▁▃▄▄▃▃▅▅▄▅▅▄▅▅▅▄▄▅▄▅▇▇█▇▇██▇▇▇█▆▇▅█▇▇▆█</td></tr><tr><td>val_loss</td><td>▂▂▁▂▁▄▁▂▃▄▂▄▂▂▂▄▃▂▄▄▂▂▃▃▃▂▄▄▃█▃▃▄▅▅▃▆▅▅▅</td></tr><tr><td>val_precision_macro</td><td>▁▁▂▂▂▂▂▃▃▂▃▃▂▃▃▂▂▃▂█▅▅▅▅▅▅▅▄▅▆▆▆▅▄▃▆▆███</td></tr><tr><td>val_recall_macro</td><td>▁▁▂▃▃▃▃▄▄▃▄▄▃▄▄▄▄▄▄▄▄▇▇██▇▇▇▆▆▆▅▆▄▅▇▆▅▅▆</td></tr></table><br/></div><div class=\"wandb-col\"><h3>Run summary:</h3><br/><table class=\"wandb\"><tr><td>epoch</td><td>50</td></tr><tr><td>train_accuracy</td><td>0.99625</td></tr><tr><td>train_f1_macro</td><td>0.99647</td></tr><tr><td>train_loss</td><td>0.01347</td></tr><tr><td>train_precision_macro</td><td>0.99716</td></tr><tr><td>train_recall_macro</td><td>0.99601</td></tr><tr><td>val_accuracy</td><td>0.79381</td></tr><tr><td>val_f1_macro</td><td>0.72239</td></tr><tr><td>val_loss</td><td>1.84719</td></tr><tr><td>val_precision_macro</td><td>0.87154</td></tr><tr><td>val_recall_macro</td><td>0.68169</td></tr></table><br/></div></div>"
      ]
     },
     "metadata": {},
     "output_type": "display_data"
    },
    {
     "data": {
      "text/plain": [
       "<IPython.core.display.HTML object>"
      ],
      "text/html": [
       " View run <strong style=\"color:#cdcd00\">comfy-sweep-1</strong> at: <a href='https://wandb.ai/erennarin-92-metu-middle-east-technical-university/DI725_assignment_1_2389088_from_scratch/runs/j5jcb5ie' target=\"_blank\">https://wandb.ai/erennarin-92-metu-middle-east-technical-university/DI725_assignment_1_2389088_from_scratch/runs/j5jcb5ie</a><br> View project at: <a href='https://wandb.ai/erennarin-92-metu-middle-east-technical-university/DI725_assignment_1_2389088_from_scratch' target=\"_blank\">https://wandb.ai/erennarin-92-metu-middle-east-technical-university/DI725_assignment_1_2389088_from_scratch</a><br>Synced 5 W&B file(s), 0 media file(s), 0 artifact file(s) and 0 other file(s)"
      ]
     },
     "metadata": {},
     "output_type": "display_data"
    },
    {
     "data": {
      "text/plain": [
       "<IPython.core.display.HTML object>"
      ],
      "text/html": [
       "Find logs at: <code>./wandb/run-20250404_003916-j5jcb5ie/logs</code>"
      ]
     },
     "metadata": {},
     "output_type": "display_data"
    },
    {
     "name": "stderr",
     "output_type": "stream",
     "text": [
      "Run j5jcb5ie errored:\n",
      "Traceback (most recent call last):\n",
      "  File \"/home/eren/anaconda3/envs/DI725_assignment1/lib/python3.10/site-packages/wandb/agents/pyagent.py\", line 306, in _run_job\n",
      "    self._function()\n",
      "  File \"/home/eren/Drive/METU/Courses/[DI 725] Transformers and Attention-Based Deep Networks/Assignments/Assignment 1/DI725_assignment1/models/train_from_scratch.py\", line 116, in train\n",
      "    model.load_state_dict(torch.load(best_model_path)['model'])\n",
      "  File \"/home/eren/anaconda3/envs/DI725_assignment1/lib/python3.10/site-packages/torch/serialization.py\", line 1425, in load\n",
      "    with _open_file_like(f, \"rb\") as opened_file:\n",
      "  File \"/home/eren/anaconda3/envs/DI725_assignment1/lib/python3.10/site-packages/torch/serialization.py\", line 751, in _open_file_like\n",
      "    return _open_file(name_or_buffer, mode)\n",
      "  File \"/home/eren/anaconda3/envs/DI725_assignment1/lib/python3.10/site-packages/torch/serialization.py\", line 732, in __init__\n",
      "    super().__init__(open(name, mode))\n",
      "FileNotFoundError: [Errno 2] No such file or directory: ''\n",
      "\n",
      "\u001B[34m\u001B[1mwandb\u001B[0m: \u001B[32m\u001B[41mERROR\u001B[0m Run j5jcb5ie errored:\n",
      "\u001B[34m\u001B[1mwandb\u001B[0m: \u001B[32m\u001B[41mERROR\u001B[0m Traceback (most recent call last):\n",
      "\u001B[34m\u001B[1mwandb\u001B[0m: \u001B[32m\u001B[41mERROR\u001B[0m   File \"/home/eren/anaconda3/envs/DI725_assignment1/lib/python3.10/site-packages/wandb/agents/pyagent.py\", line 306, in _run_job\n",
      "\u001B[34m\u001B[1mwandb\u001B[0m: \u001B[32m\u001B[41mERROR\u001B[0m     self._function()\n",
      "\u001B[34m\u001B[1mwandb\u001B[0m: \u001B[32m\u001B[41mERROR\u001B[0m   File \"/home/eren/Drive/METU/Courses/[DI 725] Transformers and Attention-Based Deep Networks/Assignments/Assignment 1/DI725_assignment1/models/train_from_scratch.py\", line 116, in train\n",
      "\u001B[34m\u001B[1mwandb\u001B[0m: \u001B[32m\u001B[41mERROR\u001B[0m     model.load_state_dict(torch.load(best_model_path)['model'])\n",
      "\u001B[34m\u001B[1mwandb\u001B[0m: \u001B[32m\u001B[41mERROR\u001B[0m   File \"/home/eren/anaconda3/envs/DI725_assignment1/lib/python3.10/site-packages/torch/serialization.py\", line 1425, in load\n",
      "\u001B[34m\u001B[1mwandb\u001B[0m: \u001B[32m\u001B[41mERROR\u001B[0m     with _open_file_like(f, \"rb\") as opened_file:\n",
      "\u001B[34m\u001B[1mwandb\u001B[0m: \u001B[32m\u001B[41mERROR\u001B[0m   File \"/home/eren/anaconda3/envs/DI725_assignment1/lib/python3.10/site-packages/torch/serialization.py\", line 751, in _open_file_like\n",
      "\u001B[34m\u001B[1mwandb\u001B[0m: \u001B[32m\u001B[41mERROR\u001B[0m     return _open_file(name_or_buffer, mode)\n",
      "\u001B[34m\u001B[1mwandb\u001B[0m: \u001B[32m\u001B[41mERROR\u001B[0m   File \"/home/eren/anaconda3/envs/DI725_assignment1/lib/python3.10/site-packages/torch/serialization.py\", line 732, in __init__\n",
      "\u001B[34m\u001B[1mwandb\u001B[0m: \u001B[32m\u001B[41mERROR\u001B[0m     super().__init__(open(name, mode))\n",
      "\u001B[34m\u001B[1mwandb\u001B[0m: \u001B[32m\u001B[41mERROR\u001B[0m FileNotFoundError: [Errno 2] No such file or directory: ''\n",
      "\u001B[34m\u001B[1mwandb\u001B[0m: \u001B[32m\u001B[41mERROR\u001B[0m \n",
      "\u001B[34m\u001B[1mwandb\u001B[0m: Sweep Agent: Waiting for job.\n",
      "\u001B[34m\u001B[1mwandb\u001B[0m: Sweep Agent: Exiting.\n"
     ]
    }
   ],
   "execution_count": 5
  },
  {
   "metadata": {
    "ExecuteTime": {
     "end_time": "2025-04-03T21:52:12.768180Z",
     "start_time": "2025-04-03T21:52:12.623744Z"
    }
   },
   "cell_type": "code",
   "source": [
    "model_path = '../models/3_nanoGPT_sentiment_model.pkl'\n",
    "loaded_model = pickle.load(open(model_path, 'rb'))"
   ],
   "id": "e6aad886637a2436",
   "outputs": [],
   "execution_count": 6
  },
  {
   "metadata": {},
   "cell_type": "markdown",
   "source": [
    "Since nanoGPT a small and easy trainable model architecture, this training only took ~12 minutes on RTX 3080 Laptop GPU. Now we can test our trained model on test dataset.\n",
    "\n",
    "We should tokenize the test values like we did to train and test values. So, we used the same classes and the methods to tokenize test values."
   ],
   "id": "1792f686b47e269"
  },
  {
   "metadata": {
    "ExecuteTime": {
     "end_time": "2025-04-03T21:52:12.774241Z",
     "start_time": "2025-04-03T21:52:12.771444Z"
    }
   },
   "cell_type": "code",
   "source": [
    "tokenizer = tiktoken.get_encoding(\"gpt2\")\n",
    "test_dataset = CustomerSentimentDataset(df_input[df_input.data_split_type == 'test'], max_length=1024,\n",
    "                                        tokenizer=tokenizer)\n",
    "test_loader = DataLoader(test_dataset, batch_size=32, shuffle=False)"
   ],
   "id": "6126955a0db70c1",
   "outputs": [],
   "execution_count": 7
  },
  {
   "metadata": {
    "ExecuteTime": {
     "end_time": "2025-04-03T21:52:13.362359Z",
     "start_time": "2025-04-03T21:52:12.818811Z"
    }
   },
   "cell_type": "code",
   "source": [
    "device = 'cuda' if torch.cuda.is_available() else 'cpu'\n",
    "test_loss, test_f1, test_prec, test_rec, test_acc, test_conf_matrix = evaluate(loaded_model, test_loader, device)\n",
    "print(\n",
    "    f\"Test Loss: {test_loss:.2f}, Test F1 Macro: {test_f1:.2f}, Test Precision Macro: {test_prec:.2f}, Test Recall Macro: {test_rec:.2f}, Test Accuracy: {test_acc:.2f}\")\n",
    "\n",
    "plot_confusion_matrix(test_conf_matrix, class_names=['Positive', 'Neutral', 'Negative'])"
   ],
   "id": "2a9a08bb2f10063d",
   "outputs": [
    {
     "name": "stdout",
     "output_type": "stream",
     "text": [
      "Test Loss: 3.19, Test F1 Macro: 0.59, Test Precision Macro: 0.76, Test Recall Macro: 0.63, Test Accuracy: 0.63\n"
     ]
    },
    {
     "data": {
      "text/plain": [
       "<Figure size 800x800 with 1 Axes>"
      ],
      "image/png": "[encoded data removed]"
     },
     "metadata": {},
     "output_type": "display_data"
    },
    {
     "ename": "Error",
     "evalue": "You must call wandb.init() before wandb.log()",
     "output_type": "error",
     "traceback": [
      "\u001B[0;31m---------------------------------------------------------------------------\u001B[0m",
      "\u001B[0;31mError\u001B[0m                                     Traceback (most recent call last)",
      "Cell \u001B[0;32mIn[8], line 6\u001B[0m\n\u001B[1;32m      2\u001B[0m test_loss, test_f1, test_prec, test_rec, test_acc, test_conf_matrix \u001B[38;5;241m=\u001B[39m evaluate(loaded_model, test_loader, device)\n\u001B[1;32m      3\u001B[0m \u001B[38;5;28mprint\u001B[39m(\n\u001B[1;32m      4\u001B[0m     \u001B[38;5;124mf\u001B[39m\u001B[38;5;124m\"\u001B[39m\u001B[38;5;124mTest Loss: \u001B[39m\u001B[38;5;132;01m{\u001B[39;00mtest_loss\u001B[38;5;132;01m:\u001B[39;00m\u001B[38;5;124m.2f\u001B[39m\u001B[38;5;132;01m}\u001B[39;00m\u001B[38;5;124m, Test F1 Macro: \u001B[39m\u001B[38;5;132;01m{\u001B[39;00mtest_f1\u001B[38;5;132;01m:\u001B[39;00m\u001B[38;5;124m.2f\u001B[39m\u001B[38;5;132;01m}\u001B[39;00m\u001B[38;5;124m, Test Precision Macro: \u001B[39m\u001B[38;5;132;01m{\u001B[39;00mtest_prec\u001B[38;5;132;01m:\u001B[39;00m\u001B[38;5;124m.2f\u001B[39m\u001B[38;5;132;01m}\u001B[39;00m\u001B[38;5;124m, Test Recall Macro: \u001B[39m\u001B[38;5;132;01m{\u001B[39;00mtest_rec\u001B[38;5;132;01m:\u001B[39;00m\u001B[38;5;124m.2f\u001B[39m\u001B[38;5;132;01m}\u001B[39;00m\u001B[38;5;124m, Test Accuracy: \u001B[39m\u001B[38;5;132;01m{\u001B[39;00mtest_acc\u001B[38;5;132;01m:\u001B[39;00m\u001B[38;5;124m.2f\u001B[39m\u001B[38;5;132;01m}\u001B[39;00m\u001B[38;5;124m\"\u001B[39m)\n\u001B[0;32m----> 6\u001B[0m \u001B[43mplot_confusion_matrix\u001B[49m\u001B[43m(\u001B[49m\u001B[43mtest_conf_matrix\u001B[49m\u001B[43m,\u001B[49m\u001B[43m \u001B[49m\u001B[43mclass_names\u001B[49m\u001B[38;5;241;43m=\u001B[39;49m\u001B[43m[\u001B[49m\u001B[38;5;124;43m'\u001B[39;49m\u001B[38;5;124;43mPositive\u001B[39;49m\u001B[38;5;124;43m'\u001B[39;49m\u001B[43m,\u001B[49m\u001B[43m \u001B[49m\u001B[38;5;124;43m'\u001B[39;49m\u001B[38;5;124;43mNeutral\u001B[39;49m\u001B[38;5;124;43m'\u001B[39;49m\u001B[43m,\u001B[49m\u001B[43m \u001B[49m\u001B[38;5;124;43m'\u001B[39;49m\u001B[38;5;124;43mNegative\u001B[39;49m\u001B[38;5;124;43m'\u001B[39;49m\u001B[43m]\u001B[49m\u001B[43m)\u001B[49m\n",
      "File \u001B[0;32m~/Drive/METU/Courses/[DI 725] Transformers and Attention-Based Deep Networks/Assignments/Assignment 1/DI725_assignment1/models/evaluate_from_scratch.py:41\u001B[0m, in \u001B[0;36mplot_confusion_matrix\u001B[0;34m(cm, class_names)\u001B[0m\n\u001B[1;32m     38\u001B[0m plt\u001B[38;5;241m.\u001B[39mxlabel(\u001B[38;5;124m'\u001B[39m\u001B[38;5;124mPredicted label\u001B[39m\u001B[38;5;124m'\u001B[39m)\n\u001B[1;32m     39\u001B[0m plt\u001B[38;5;241m.\u001B[39mshow()\n\u001B[0;32m---> 41\u001B[0m \u001B[43mwandb\u001B[49m\u001B[38;5;241;43m.\u001B[39;49m\u001B[43mlog\u001B[49m\u001B[43m(\u001B[49m\u001B[43m{\u001B[49m\u001B[38;5;124;43mf\u001B[39;49m\u001B[38;5;124;43m\"\u001B[39;49m\u001B[38;5;124;43mConfusion Matrix\u001B[39;49m\u001B[38;5;124;43m\"\u001B[39;49m\u001B[43m:\u001B[49m\u001B[43m \u001B[49m\u001B[43mwandb\u001B[49m\u001B[38;5;241;43m.\u001B[39;49m\u001B[43mImage\u001B[49m\u001B[43m(\u001B[49m\u001B[43mfig\u001B[49m\u001B[43m)\u001B[49m\u001B[43m}\u001B[49m\u001B[43m)\u001B[49m\n",
      "File \u001B[0;32m~/anaconda3/envs/DI725_assignment1/lib/python3.10/site-packages/wandb/sdk/lib/preinit.py:36\u001B[0m, in \u001B[0;36mPreInitCallable.<locals>.preinit_wrapper\u001B[0;34m(*args, **kwargs)\u001B[0m\n\u001B[1;32m     35\u001B[0m \u001B[38;5;28;01mdef\u001B[39;00m \u001B[38;5;21mpreinit_wrapper\u001B[39m(\u001B[38;5;241m*\u001B[39margs: Any, \u001B[38;5;241m*\u001B[39m\u001B[38;5;241m*\u001B[39mkwargs: Any) \u001B[38;5;241m-\u001B[39m\u001B[38;5;241m>\u001B[39m Any:\n\u001B[0;32m---> 36\u001B[0m     \u001B[38;5;28;01mraise\u001B[39;00m wandb\u001B[38;5;241m.\u001B[39mError(\u001B[38;5;124mf\u001B[39m\u001B[38;5;124m\"\u001B[39m\u001B[38;5;124mYou must call wandb.init() before \u001B[39m\u001B[38;5;132;01m{\u001B[39;00mname\u001B[38;5;132;01m}\u001B[39;00m\u001B[38;5;124m()\u001B[39m\u001B[38;5;124m\"\u001B[39m)\n",
      "\u001B[0;31mError\u001B[0m: You must call wandb.init() before wandb.log()"
     ]
    }
   ],
   "execution_count": 8
  },
  {
   "metadata": {},
   "cell_type": "markdown",
   "source": "In this training, the model has performed with 63% accuracy on test dataset. As we can see on confusion matrix, the model classified the neutral and negative inputs well, however it failed to classify positive examples correctly. This is expected, because our dataset is a biased one. There are very few positive examples in both train and test sets. To increase performance on minority classes, we can collect more data or augment data with new samples from minority classes.",
   "id": "77cbd352d1e37088"
  }
 ],
 "metadata": {
  "kernelspec": {
   "display_name": "Python 3",
   "language": "python",
   "name": "python3"
  },
  "language_info": {
   "codemirror_mode": {
    "name": "ipython",
    "version": 2
   },
   "file_extension": ".py",
   "mimetype": "text/x-python",
   "name": "python",
   "nbconvert_exporter": "python",
   "pygments_lexer": "ipython2",
   "version": "2.7.6"
  }
 },
 "nbformat": 4,
 "nbformat_minor": 5
}
