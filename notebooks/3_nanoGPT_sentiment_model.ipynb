{
 "cells": [
  {
   "metadata": {},
   "cell_type": "markdown",
   "source": [
    "In this notebook, we will train a new sentiment classifier model from scratch with using nanoGPT as baseline.\n",
    "\n",
    "If you didn't install the required packages before, you can with the commented out line below. Otherwise, you will get errors at the first import."
   ],
   "id": "64b85942fc46b200"
  },
  {
   "metadata": {},
   "cell_type": "code",
   "outputs": [],
   "execution_count": null,
   "source": "#!pip install torch numpy transformers datasets tiktoken wandb tqdm matplotlib seaborn scipy scikit-learn",
   "id": "a30032107e8f840a"
  },
  {
   "metadata": {},
   "cell_type": "markdown",
   "source": "",
   "id": "16b1201275d5c571"
  },
  {
   "metadata": {},
   "cell_type": "code",
   "outputs": [],
   "execution_count": null,
   "source": "import torch",
   "id": "49455ffd3ac633a3"
  },
  {
   "metadata": {},
   "cell_type": "markdown",
   "source": "",
   "id": "a6c96a45a75e49b5"
  },
  {
   "metadata": {},
   "cell_type": "markdown",
   "source": "",
   "id": "5a5f4f9e31729fe2"
  },
  {
   "metadata": {},
   "cell_type": "markdown",
   "source": "",
   "id": "66e1bac738f9a1dd"
  }
 ],
 "metadata": {
  "kernelspec": {
   "display_name": "Python 3",
   "language": "python",
   "name": "python3"
  },
  "language_info": {
   "codemirror_mode": {
    "name": "ipython",
    "version": 2
   },
   "file_extension": ".py",
   "mimetype": "text/x-python",
   "name": "python",
   "nbconvert_exporter": "python",
   "pygments_lexer": "ipython2",
   "version": "2.7.6"
  }
 },
 "nbformat": 4,
 "nbformat_minor": 5
}
