{
 "cells": [
  {
   "metadata": {},
   "cell_type": "markdown",
   "source": [
    "In this notebook, we will fine-tune gpt-2 model for adapting it to customer conversation sentiment classification.\n",
    "\n",
    "If you didn't install the required packages before, you can with the commented out lines below. Otherwise, you will get errors at the first import."
   ],
   "id": "20b3510fc7bd6866"
  },
  {
   "metadata": {
    "ExecuteTime": {
     "end_time": "2025-04-03T21:57:03.124826Z",
     "start_time": "2025-04-03T21:57:03.122480Z"
    }
   },
   "cell_type": "code",
   "source": [
    "#!pip install torch numpy transformers datasets tiktoken wandb tqdm matplotlib seaborn scipy scikit-learn\n",
    "#!pip install accelerate\n",
    "#!pip install transformers torch -U"
   ],
   "id": "51a05277d256b06f",
   "outputs": [],
   "execution_count": 1
  },
  {
   "metadata": {
    "ExecuteTime": {
     "end_time": "2025-04-03T21:57:06.076897Z",
     "start_time": "2025-04-03T21:57:03.128407Z"
    }
   },
   "cell_type": "code",
   "source": [
    "import pickle\n",
    "import datasets\n",
    "import wandb\n",
    "import pandas as pd\n",
    "import seaborn as sns\n",
    "import matplotlib.pyplot as plt\n",
    "from transformers import GPT2ForSequenceClassification\n",
    "from transformers import Trainer, TrainingArguments\n",
    "from models.evaluate_fine_tuned import evaluate_on_test\n",
    "from sklearn.metrics import confusion_matrix"
   ],
   "id": "ceadc25f8c1343a6",
   "outputs": [
    {
     "name": "stderr",
     "output_type": "stream",
     "text": [
      "/home/eren/anaconda3/envs/DI725_assignment1/lib/python3.10/site-packages/tqdm/auto.py:21: TqdmWarning: IProgress not found. Please update jupyter and ipywidgets. See https://ipywidgets.readthedocs.io/en/stable/user_install.html\n",
      "  from .autonotebook import tqdm as notebook_tqdm\n"
     ]
    }
   ],
   "execution_count": 2
  },
  {
   "metadata": {},
   "cell_type": "markdown",
   "source": "We will initialize the Weights & Biases project now. If you are not logged in to your wandb account, in this step you should enter your wandb credentials.",
   "id": "d2f2c1e0f3cbb70a"
  },
  {
   "metadata": {
    "ExecuteTime": {
     "end_time": "2025-04-03T21:57:07.619475Z",
     "start_time": "2025-04-03T21:57:06.111081Z"
    }
   },
   "cell_type": "code",
   "source": [
    "wandb.init(\n",
    "    project=\"DI725_assignment_1_2389088_fine_tune\"\n",
    ")\n",
    "config = wandb.config"
   ],
   "id": "a9f9069c91a8f823",
   "outputs": [
    {
     "name": "stderr",
     "output_type": "stream",
     "text": [
      "\u001B[34m\u001B[1mwandb\u001B[0m: Using wandb-core as the SDK backend.  Please refer to https://wandb.me/wandb-core for more information.\n",
      "\u001B[34m\u001B[1mwandb\u001B[0m: Currently logged in as: \u001B[33merennarin-92\u001B[0m (\u001B[33merennarin-92-metu-middle-east-technical-university\u001B[0m) to \u001B[32mhttps://api.wandb.ai\u001B[0m. Use \u001B[1m`wandb login --relogin`\u001B[0m to force relogin\n"
     ]
    },
    {
     "data": {
      "text/plain": [
       "<IPython.core.display.HTML object>"
      ],
      "text/html": [
       "Tracking run with wandb version 0.19.8"
      ]
     },
     "metadata": {},
     "output_type": "display_data"
    },
    {
     "data": {
      "text/plain": [
       "<IPython.core.display.HTML object>"
      ],
      "text/html": [
       "Run data is saved locally in <code>/home/eren/Drive/METU/Courses/[DI 725] Transformers and Attention-Based Deep Networks/Assignments/Assignment 1/DI725_assignment1/notebooks/wandb/run-20250404_005707-kcdb8949</code>"
      ]
     },
     "metadata": {},
     "output_type": "display_data"
    },
    {
     "data": {
      "text/plain": [
       "<IPython.core.display.HTML object>"
      ],
      "text/html": [
       "Syncing run <strong><a href='https://wandb.ai/erennarin-92-metu-middle-east-technical-university/DI725_assignment_1_2389088_fine_tune/runs/kcdb8949' target=\"_blank\">breezy-sound-1</a></strong> to <a href='https://wandb.ai/erennarin-92-metu-middle-east-technical-university/DI725_assignment_1_2389088_fine_tune' target=\"_blank\">Weights & Biases</a> (<a href='https://wandb.me/developer-guide' target=\"_blank\">docs</a>)<br>"
      ]
     },
     "metadata": {},
     "output_type": "display_data"
    },
    {
     "data": {
      "text/plain": [
       "<IPython.core.display.HTML object>"
      ],
      "text/html": [
       " View project at <a href='https://wandb.ai/erennarin-92-metu-middle-east-technical-university/DI725_assignment_1_2389088_fine_tune' target=\"_blank\">https://wandb.ai/erennarin-92-metu-middle-east-technical-university/DI725_assignment_1_2389088_fine_tune</a>"
      ]
     },
     "metadata": {},
     "output_type": "display_data"
    },
    {
     "data": {
      "text/plain": [
       "<IPython.core.display.HTML object>"
      ],
      "text/html": [
       " View run at <a href='https://wandb.ai/erennarin-92-metu-middle-east-technical-university/DI725_assignment_1_2389088_fine_tune/runs/kcdb8949' target=\"_blank\">https://wandb.ai/erennarin-92-metu-middle-east-technical-university/DI725_assignment_1_2389088_fine_tune/runs/kcdb8949</a>"
      ]
     },
     "metadata": {},
     "output_type": "display_data"
    }
   ],
   "execution_count": 3
  },
  {
   "metadata": {},
   "cell_type": "markdown",
   "source": "We should load the tokenized data that is created at [2_preprocess.ipynb](2_preprocess.ipynb) first. Dataset format is suitable for training a model with huggingface's transformer library.",
   "id": "2c877311f3b8729a"
  },
  {
   "metadata": {
    "ExecuteTime": {
     "end_time": "2025-04-03T21:57:07.633365Z",
     "start_time": "2025-04-03T21:57:07.624901Z"
    }
   },
   "cell_type": "code",
   "source": [
    "tokenized_datasets = datasets.load_from_disk(f\"../data/final/train-val.hf\")\n",
    "tokenized_datasets"
   ],
   "id": "cf3be76bfe1666b7",
   "outputs": [
    {
     "data": {
      "text/plain": [
       "DatasetDict({\n",
       "    train: Dataset({\n",
       "        features: ['text', 'label', 'input_ids', 'attention_mask'],\n",
       "        num_rows: 776\n",
       "    })\n",
       "    test: Dataset({\n",
       "        features: ['text', 'label', 'input_ids', 'attention_mask'],\n",
       "        num_rows: 194\n",
       "    })\n",
       "})"
      ]
     },
     "execution_count": 4,
     "metadata": {},
     "output_type": "execute_result"
    }
   ],
   "execution_count": 4
  },
  {
   "metadata": {},
   "cell_type": "markdown",
   "source": [
    "The dataset contains train and validation datasets only. Test dataset hasn't been tokenized yet.\n",
    "\n",
    "At next step, we create a GPT2 Sequence Classification model with pretrained weights. We can see the structure of the model below."
   ],
   "id": "6d378949f319e15"
  },
  {
   "metadata": {
    "ExecuteTime": {
     "end_time": "2025-04-03T21:57:08.222816Z",
     "start_time": "2025-04-03T21:57:07.716523Z"
    }
   },
   "cell_type": "code",
   "source": [
    "model = GPT2ForSequenceClassification.from_pretrained(\"gpt2\", num_labels=3)\n",
    "model"
   ],
   "id": "38894a5c619d517f",
   "outputs": [
    {
     "name": "stderr",
     "output_type": "stream",
     "text": [
      "Some weights of GPT2ForSequenceClassification were not initialized from the model checkpoint at gpt2 and are newly initialized: ['score.weight']\n",
      "You should probably TRAIN this model on a down-stream task to be able to use it for predictions and inference.\n"
     ]
    },
    {
     "data": {
      "text/plain": [
       "GPT2ForSequenceClassification(\n",
       "  (transformer): GPT2Model(\n",
       "    (wte): Embedding(50257, 768)\n",
       "    (wpe): Embedding(1024, 768)\n",
       "    (drop): Dropout(p=0.1, inplace=False)\n",
       "    (h): ModuleList(\n",
       "      (0-11): 12 x GPT2Block(\n",
       "        (ln_1): LayerNorm((768,), eps=1e-05, elementwise_affine=True)\n",
       "        (attn): GPT2Attention(\n",
       "          (c_attn): Conv1D(nf=2304, nx=768)\n",
       "          (c_proj): Conv1D(nf=768, nx=768)\n",
       "          (attn_dropout): Dropout(p=0.1, inplace=False)\n",
       "          (resid_dropout): Dropout(p=0.1, inplace=False)\n",
       "        )\n",
       "        (ln_2): LayerNorm((768,), eps=1e-05, elementwise_affine=True)\n",
       "        (mlp): GPT2MLP(\n",
       "          (c_fc): Conv1D(nf=3072, nx=768)\n",
       "          (c_proj): Conv1D(nf=768, nx=3072)\n",
       "          (act): NewGELUActivation()\n",
       "          (dropout): Dropout(p=0.1, inplace=False)\n",
       "        )\n",
       "      )\n",
       "    )\n",
       "    (ln_f): LayerNorm((768,), eps=1e-05, elementwise_affine=True)\n",
       "  )\n",
       "  (score): Linear(in_features=768, out_features=3, bias=False)\n",
       ")"
      ]
     },
     "execution_count": 5,
     "metadata": {},
     "output_type": "execute_result"
    }
   ],
   "execution_count": 5
  },
  {
   "metadata": {},
   "cell_type": "markdown",
   "source": "We define our training arguments and start training process here. Different arguments have been tested during development process and these values are from the best performed configuration.",
   "id": "ce41a488507d60c6"
  },
  {
   "metadata": {
    "ExecuteTime": {
     "end_time": "2025-04-03T22:06:54.258448Z",
     "start_time": "2025-04-03T21:57:08.228287Z"
    }
   },
   "cell_type": "code",
   "source": [
    "training_args = TrainingArguments(\n",
    "    output_dir=\"./results\",\n",
    "    learning_rate=2e-5,\n",
    "    per_device_train_batch_size=1,\n",
    "    num_train_epochs=5,\n",
    "    weight_decay=0.01\n",
    ")\n",
    "\n",
    "trainer = Trainer(\n",
    "    model=model,\n",
    "    args=training_args,\n",
    "    train_dataset=tokenized_datasets[\"train\"],\n",
    "    eval_dataset=tokenized_datasets[\"test\"]\n",
    ")\n",
    "\n",
    "trainer.train()"
   ],
   "id": "dbda69285a486bc3",
   "outputs": [
    {
     "name": "stderr",
     "output_type": "stream",
     "text": [
      "\u001B[34m\u001B[1mwandb\u001B[0m: \u001B[33mWARNING\u001B[0m The `run_name` is currently set to the same value as `TrainingArguments.output_dir`. If this was not intended, please specify a different run name by setting the `TrainingArguments.run_name` parameter.\n"
     ]
    },
    {
     "data": {
      "text/plain": [
       "<IPython.core.display.HTML object>"
      ],
      "text/html": [
       "\n",
       "    <div>\n",
       "      \n",
       "      <progress value='3880' max='3880' style='width:300px; height:20px; vertical-align: middle;'></progress>\n",
       "      [3880/3880 09:44, Epoch 5/5]\n",
       "    </div>\n",
       "    <table border=\"1\" class=\"dataframe\">\n",
       "  <thead>\n",
       " <tr style=\"text-align: left;\">\n",
       "      <th>Step</th>\n",
       "      <th>Training Loss</th>\n",
       "    </tr>\n",
       "  </thead>\n",
       "  <tbody>\n",
       "    <tr>\n",
       "      <td>500</td>\n",
       "      <td>2.814300</td>\n",
       "    </tr>\n",
       "    <tr>\n",
       "      <td>1000</td>\n",
       "      <td>1.396900</td>\n",
       "    </tr>\n",
       "    <tr>\n",
       "      <td>1500</td>\n",
       "      <td>1.000900</td>\n",
       "    </tr>\n",
       "    <tr>\n",
       "      <td>2000</td>\n",
       "      <td>0.777700</td>\n",
       "    </tr>\n",
       "    <tr>\n",
       "      <td>2500</td>\n",
       "      <td>0.602000</td>\n",
       "    </tr>\n",
       "    <tr>\n",
       "      <td>3000</td>\n",
       "      <td>0.472600</td>\n",
       "    </tr>\n",
       "    <tr>\n",
       "      <td>3500</td>\n",
       "      <td>0.302400</td>\n",
       "    </tr>\n",
       "  </tbody>\n",
       "</table><p>"
      ]
     },
     "metadata": {},
     "output_type": "display_data"
    },
    {
     "data": {
      "text/plain": [
       "TrainOutput(global_step=3880, training_loss=0.9829104629988523, metrics={'train_runtime': 585.3053, 'train_samples_per_second': 6.629, 'train_steps_per_second': 6.629, 'total_flos': 2027681092730880.0, 'train_loss': 0.9829104629988523, 'epoch': 5.0})"
      ]
     },
     "execution_count": 6,
     "metadata": {},
     "output_type": "execute_result"
    }
   ],
   "execution_count": 6
  },
  {
   "metadata": {},
   "cell_type": "markdown",
   "source": "This training took ~10 minutes on RTX 3080 Laptop GPU. Training metrics can be investigated on W&B too. Now we can start to evaluate our fine-tuned model.",
   "id": "b391b0d343c1f4dd"
  },
  {
   "metadata": {
    "ExecuteTime": {
     "end_time": "2025-04-03T22:06:54.679438Z",
     "start_time": "2025-04-03T22:06:54.307863Z"
    }
   },
   "cell_type": "code",
   "source": [
    "test_path = \"../data/final/test.csv\"\n",
    "df_test = pd.read_csv(test_path)\n",
    "\n",
    "preds, labels = evaluate_on_test(model, df_test)"
   ],
   "id": "babae91e77854cfe",
   "outputs": [
    {
     "name": "stdout",
     "output_type": "stream",
     "text": [
      "Prediction: neutral - Label: negative\n",
      "Prediction: neutral - Label: negative\n",
      "Prediction: negative - Label: negative\n",
      "Prediction: negative - Label: negative\n",
      "Prediction: negative - Label: negative\n",
      "Prediction: negative - Label: negative\n",
      "Prediction: negative - Label: negative\n",
      "Prediction: negative - Label: negative\n",
      "Prediction: negative - Label: negative\n",
      "Prediction: negative - Label: negative\n",
      "Prediction: neutral - Label: neutral\n",
      "Prediction: neutral - Label: neutral\n",
      "Prediction: neutral - Label: neutral\n",
      "Prediction: neutral - Label: neutral\n",
      "Prediction: neutral - Label: neutral\n",
      "Prediction: neutral - Label: neutral\n",
      "Prediction: neutral - Label: neutral\n",
      "Prediction: neutral - Label: neutral\n",
      "Prediction: neutral - Label: neutral\n",
      "Prediction: neutral - Label: neutral\n",
      "Prediction: neutral - Label: positive\n",
      "Prediction: positive - Label: positive\n",
      "Prediction: positive - Label: positive\n",
      "Prediction: neutral - Label: positive\n",
      "Prediction: positive - Label: positive\n",
      "Prediction: neutral - Label: positive\n",
      "Prediction: neutral - Label: positive\n",
      "Prediction: neutral - Label: positive\n",
      "Prediction: positive - Label: positive\n",
      "Prediction: neutral - Label: positive\n"
     ]
    }
   ],
   "execution_count": 7
  },
  {
   "metadata": {
    "ExecuteTime": {
     "end_time": "2025-04-03T22:06:54.758868Z",
     "start_time": "2025-04-03T22:06:54.682751Z"
    }
   },
   "cell_type": "code",
   "source": [
    "classes = [\"negative\", \"neutral\", \"positive\"]\n",
    "cm = confusion_matrix(labels, preds, labels=classes)\n",
    "\n",
    "figure = plt.figure(figsize=(8, 8))\n",
    "sns.heatmap(cm, annot=True, fmt=\"d\", cmap=plt.cm.Blues, cbar=False, xticklabels=classes, yticklabels=classes)\n",
    "plt.tight_layout()\n",
    "plt.ylabel('True label')\n",
    "plt.xlabel('Predicted label')\n",
    "plt.show()"
   ],
   "id": "aa213cb2b33b5716",
   "outputs": [
    {
     "data": {
      "text/plain": [
       "<Figure size 800x800 with 1 Axes>"
      ],
      "image/png": "[encoded data removed]"
     },
     "metadata": {},
     "output_type": "display_data"
    }
   ],
   "execution_count": 8
  },
  {
   "metadata": {
    "ExecuteTime": {
     "end_time": "2025-04-03T22:06:54.775438Z",
     "start_time": "2025-04-03T22:06:54.767723Z"
    }
   },
   "cell_type": "code",
   "source": [
    "from sklearn.metrics import classification_report\n",
    "\n",
    "print(classification_report(labels, preds, target_names=classes))"
   ],
   "id": "73839a31fefdfc6a",
   "outputs": [
    {
     "name": "stdout",
     "output_type": "stream",
     "text": [
      "              precision    recall  f1-score   support\n",
      "\n",
      "    negative       1.00      0.80      0.89        10\n",
      "     neutral       0.56      1.00      0.71        10\n",
      "    positive       1.00      0.40      0.57        10\n",
      "\n",
      "    accuracy                           0.73        30\n",
      "   macro avg       0.85      0.73      0.72        30\n",
      "weighted avg       0.85      0.73      0.72        30\n",
      "\n"
     ]
    }
   ],
   "execution_count": 9
  },
  {
   "metadata": {},
   "cell_type": "markdown",
   "source": [
    "In this training, the model has performed with 73% accuracy on test dataset. As we can see on confusion matrix, the model classified the neutral and negative inputs well, however it failed to classify positive examples correctly. This is expected, because our dataset is a biased one. There are very few positive examples in both train and test sets. To increase performance on minority classes, we can collect more data or augment data with new samples from minority classes.\n",
    "\n",
    "This fine-tuned model performed better than the model that we trained from scratch in [3_nanoGPT_from_scratch.ipynb] (3_nanoGPT_from_scratch.ipynb). GPT2 has trained with a vast dataset on excessive hardware resources. If the resources are limited, fine-tuning pre-trained model for a specific task is usually the best option."
   ],
   "id": "f1be9dc57a3354b4"
  },
  {
   "metadata": {
    "ExecuteTime": {
     "end_time": "2025-04-03T22:06:55.377484Z",
     "start_time": "2025-04-03T22:06:54.812453Z"
    }
   },
   "cell_type": "code",
   "source": [
    "model_path = '../models/4_gpt2_sentiment_model.pkl'\n",
    "with open(model_path, 'wb') as f:\n",
    "    pickle.dump(model, f)"
   ],
   "id": "d2f4efe112fe593a",
   "outputs": [],
   "execution_count": 10
  }
 ],
 "metadata": {
  "kernelspec": {
   "display_name": "Python 3",
   "language": "python",
   "name": "python3"
  },
  "language_info": {
   "codemirror_mode": {
    "name": "ipython",
    "version": 2
   },
   "file_extension": ".py",
   "mimetype": "text/x-python",
   "name": "python",
   "nbconvert_exporter": "python",
   "pygments_lexer": "ipython2",
   "version": "2.7.6"
  }
 },
 "nbformat": 4,
 "nbformat_minor": 5
}
