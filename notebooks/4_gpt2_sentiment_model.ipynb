{
 "cells": [
  {
   "metadata": {},
   "cell_type": "markdown",
   "source": [
    "In this notebook, we will fine-tune gpt-2 model for adapting it to customer conversation sentiment classification.\n",
    "\n",
    "If you didn't install the required packages before, you can with the commented out lines below. Otherwise, you will get errors at the first import."
   ],
   "id": "20b3510fc7bd6866"
  },
  {
   "metadata": {
    "ExecuteTime": {
     "end_time": "2025-04-03T18:02:07.985347Z",
     "start_time": "2025-04-03T18:02:07.983419Z"
    }
   },
   "cell_type": "code",
   "source": [
    "#!pip install torch numpy transformers datasets tiktoken wandb tqdm matplotlib seaborn scipy scikit-learn\n",
    "#!pip install accelerate\n",
    "#!pip install transformers torch -U"
   ],
   "id": "51a05277d256b06f",
   "outputs": [],
   "execution_count": 1
  },
  {
   "metadata": {
    "ExecuteTime": {
     "end_time": "2025-04-03T18:02:10.764497Z",
     "start_time": "2025-04-03T18:02:07.995764Z"
    }
   },
   "cell_type": "code",
   "source": [
    "import pickle\n",
    "import datasets\n",
    "import pandas as pd\n",
    "import seaborn as sns\n",
    "import matplotlib.pyplot as plt\n",
    "from transformers import GPT2ForSequenceClassification\n",
    "from transformers import Trainer, TrainingArguments\n",
    "from models.evaluate_fine_tuned import evaluate_on_test\n",
    "from sklearn.metrics import confusion_matrix"
   ],
   "id": "ceadc25f8c1343a6",
   "outputs": [
    {
     "name": "stderr",
     "output_type": "stream",
     "text": [
      "/home/eren/anaconda3/envs/DI725_assignment1/lib/python3.10/site-packages/tqdm/auto.py:21: TqdmWarning: IProgress not found. Please update jupyter and ipywidgets. See https://ipywidgets.readthedocs.io/en/stable/user_install.html\n",
      "  from .autonotebook import tqdm as notebook_tqdm\n"
     ]
    }
   ],
   "execution_count": 2
  },
  {
   "metadata": {},
   "cell_type": "markdown",
   "source": "",
   "id": "2c877311f3b8729a"
  },
  {
   "metadata": {
    "ExecuteTime": {
     "end_time": "2025-04-03T18:02:10.810162Z",
     "start_time": "2025-04-03T18:02:10.802475Z"
    }
   },
   "cell_type": "code",
   "source": [
    "tokenized_datasets = datasets.load_from_disk(f\"../data/final/train-val.hf\")\n",
    "tokenized_datasets"
   ],
   "id": "cf3be76bfe1666b7",
   "outputs": [
    {
     "data": {
      "text/plain": [
       "DatasetDict({\n",
       "    train: Dataset({\n",
       "        features: ['text', 'label', 'input_ids', 'attention_mask'],\n",
       "        num_rows: 776\n",
       "    })\n",
       "    test: Dataset({\n",
       "        features: ['text', 'label', 'input_ids', 'attention_mask'],\n",
       "        num_rows: 194\n",
       "    })\n",
       "})"
      ]
     },
     "execution_count": 3,
     "metadata": {},
     "output_type": "execute_result"
    }
   ],
   "execution_count": 3
  },
  {
   "metadata": {},
   "cell_type": "markdown",
   "source": "",
   "id": "6d378949f319e15"
  },
  {
   "metadata": {
    "ExecuteTime": {
     "end_time": "2025-04-03T18:02:11.313323Z",
     "start_time": "2025-04-03T18:02:10.844391Z"
    }
   },
   "cell_type": "code",
   "source": [
    "model = GPT2ForSequenceClassification.from_pretrained(\"gpt2\", num_labels=3)\n",
    "model"
   ],
   "id": "38894a5c619d517f",
   "outputs": [
    {
     "name": "stderr",
     "output_type": "stream",
     "text": [
      "Some weights of GPT2ForSequenceClassification were not initialized from the model checkpoint at gpt2 and are newly initialized: ['score.weight']\n",
      "You should probably TRAIN this model on a down-stream task to be able to use it for predictions and inference.\n"
     ]
    },
    {
     "data": {
      "text/plain": [
       "GPT2ForSequenceClassification(\n",
       "  (transformer): GPT2Model(\n",
       "    (wte): Embedding(50257, 768)\n",
       "    (wpe): Embedding(1024, 768)\n",
       "    (drop): Dropout(p=0.1, inplace=False)\n",
       "    (h): ModuleList(\n",
       "      (0-11): 12 x GPT2Block(\n",
       "        (ln_1): LayerNorm((768,), eps=1e-05, elementwise_affine=True)\n",
       "        (attn): GPT2Attention(\n",
       "          (c_attn): Conv1D(nf=2304, nx=768)\n",
       "          (c_proj): Conv1D(nf=768, nx=768)\n",
       "          (attn_dropout): Dropout(p=0.1, inplace=False)\n",
       "          (resid_dropout): Dropout(p=0.1, inplace=False)\n",
       "        )\n",
       "        (ln_2): LayerNorm((768,), eps=1e-05, elementwise_affine=True)\n",
       "        (mlp): GPT2MLP(\n",
       "          (c_fc): Conv1D(nf=3072, nx=768)\n",
       "          (c_proj): Conv1D(nf=768, nx=3072)\n",
       "          (act): NewGELUActivation()\n",
       "          (dropout): Dropout(p=0.1, inplace=False)\n",
       "        )\n",
       "      )\n",
       "    )\n",
       "    (ln_f): LayerNorm((768,), eps=1e-05, elementwise_affine=True)\n",
       "  )\n",
       "  (score): Linear(in_features=768, out_features=3, bias=False)\n",
       ")"
      ]
     },
     "execution_count": 4,
     "metadata": {},
     "output_type": "execute_result"
    }
   ],
   "execution_count": 4
  },
  {
   "metadata": {},
   "cell_type": "markdown",
   "source": "",
   "id": "ce41a488507d60c6"
  },
  {
   "metadata": {
    "ExecuteTime": {
     "end_time": "2025-04-03T18:12:01.480946Z",
     "start_time": "2025-04-03T18:02:11.321628Z"
    }
   },
   "cell_type": "code",
   "source": [
    "training_args = TrainingArguments(\n",
    "    output_dir=\"./results\",\n",
    "    learning_rate=2e-5,\n",
    "    per_device_train_batch_size=1,\n",
    "    num_train_epochs=5,\n",
    "    weight_decay=0.01\n",
    ")\n",
    "\n",
    "trainer = Trainer(\n",
    "    model=model,\n",
    "    args=training_args,\n",
    "    train_dataset=tokenized_datasets[\"train\"],\n",
    "    eval_dataset=tokenized_datasets[\"test\"]\n",
    ")\n",
    "\n",
    "trainer.train()"
   ],
   "id": "dbda69285a486bc3",
   "outputs": [
    {
     "name": "stderr",
     "output_type": "stream",
     "text": [
      "\u001B[34m\u001B[1mwandb\u001B[0m: \u001B[33mWARNING\u001B[0m The `run_name` is currently set to the same value as `TrainingArguments.output_dir`. If this was not intended, please specify a different run name by setting the `TrainingArguments.run_name` parameter.\n",
      "\u001B[34m\u001B[1mwandb\u001B[0m: Using wandb-core as the SDK backend.  Please refer to https://wandb.me/wandb-core for more information.\n",
      "\u001B[34m\u001B[1mwandb\u001B[0m: Currently logged in as: \u001B[33merennarin-92\u001B[0m (\u001B[33merennarin-92-metu-middle-east-technical-university\u001B[0m) to \u001B[32mhttps://api.wandb.ai\u001B[0m. Use \u001B[1m`wandb login --relogin`\u001B[0m to force relogin\n"
     ]
    },
    {
     "data": {
      "text/plain": [
       "<IPython.core.display.HTML object>"
      ],
      "text/html": [
       "Tracking run with wandb version 0.19.8"
      ]
     },
     "metadata": {},
     "output_type": "display_data"
    },
    {
     "data": {
      "text/plain": [
       "<IPython.core.display.HTML object>"
      ],
      "text/html": [
       "Run data is saved locally in <code>/home/eren/Drive/METU/Courses/[DI 725] Transformers and Attention-Based Deep Networks/Assignments/Assignment 1/DI725_assignment1/notebooks/wandb/run-20250403_210213-w5qwvd9a</code>"
      ]
     },
     "metadata": {},
     "output_type": "display_data"
    },
    {
     "data": {
      "text/plain": [
       "<IPython.core.display.HTML object>"
      ],
      "text/html": [
       "Syncing run <strong><a href='https://wandb.ai/erennarin-92-metu-middle-east-technical-university/huggingface/runs/w5qwvd9a' target=\"_blank\">./results</a></strong> to <a href='https://wandb.ai/erennarin-92-metu-middle-east-technical-university/huggingface' target=\"_blank\">Weights & Biases</a> (<a href='https://wandb.me/developer-guide' target=\"_blank\">docs</a>)<br>"
      ]
     },
     "metadata": {},
     "output_type": "display_data"
    },
    {
     "data": {
      "text/plain": [
       "<IPython.core.display.HTML object>"
      ],
      "text/html": [
       " View project at <a href='https://wandb.ai/erennarin-92-metu-middle-east-technical-university/huggingface' target=\"_blank\">https://wandb.ai/erennarin-92-metu-middle-east-technical-university/huggingface</a>"
      ]
     },
     "metadata": {},
     "output_type": "display_data"
    },
    {
     "data": {
      "text/plain": [
       "<IPython.core.display.HTML object>"
      ],
      "text/html": [
       " View run at <a href='https://wandb.ai/erennarin-92-metu-middle-east-technical-university/huggingface/runs/w5qwvd9a' target=\"_blank\">https://wandb.ai/erennarin-92-metu-middle-east-technical-university/huggingface/runs/w5qwvd9a</a>"
      ]
     },
     "metadata": {},
     "output_type": "display_data"
    },
    {
     "data": {
      "text/plain": [
       "<IPython.core.display.HTML object>"
      ],
      "text/html": [
       "\n",
       "    <div>\n",
       "      \n",
       "      <progress value='3880' max='3880' style='width:300px; height:20px; vertical-align: middle;'></progress>\n",
       "      [3880/3880 09:47, Epoch 5/5]\n",
       "    </div>\n",
       "    <table border=\"1\" class=\"dataframe\">\n",
       "  <thead>\n",
       " <tr style=\"text-align: left;\">\n",
       "      <th>Step</th>\n",
       "      <th>Training Loss</th>\n",
       "    </tr>\n",
       "  </thead>\n",
       "  <tbody>\n",
       "    <tr>\n",
       "      <td>500</td>\n",
       "      <td>2.233900</td>\n",
       "    </tr>\n",
       "    <tr>\n",
       "      <td>1000</td>\n",
       "      <td>0.999300</td>\n",
       "    </tr>\n",
       "    <tr>\n",
       "      <td>1500</td>\n",
       "      <td>0.869700</td>\n",
       "    </tr>\n",
       "    <tr>\n",
       "      <td>2000</td>\n",
       "      <td>0.749200</td>\n",
       "    </tr>\n",
       "    <tr>\n",
       "      <td>2500</td>\n",
       "      <td>0.560900</td>\n",
       "    </tr>\n",
       "    <tr>\n",
       "      <td>3000</td>\n",
       "      <td>0.588300</td>\n",
       "    </tr>\n",
       "    <tr>\n",
       "      <td>3500</td>\n",
       "      <td>0.377900</td>\n",
       "    </tr>\n",
       "  </tbody>\n",
       "</table><p>"
      ]
     },
     "metadata": {},
     "output_type": "display_data"
    },
    {
     "data": {
      "text/plain": [
       "TrainOutput(global_step=3880, training_loss=0.8646149428849368, metrics={'train_runtime': 589.1376, 'train_samples_per_second': 6.586, 'train_steps_per_second': 6.586, 'total_flos': 2027681092730880.0, 'train_loss': 0.8646149428849368, 'epoch': 5.0})"
      ]
     },
     "execution_count": 5,
     "metadata": {},
     "output_type": "execute_result"
    }
   ],
   "execution_count": 5
  },
  {
   "metadata": {},
   "cell_type": "markdown",
   "source": "",
   "id": "b391b0d343c1f4dd"
  },
  {
   "metadata": {
    "ExecuteTime": {
     "end_time": "2025-04-03T18:12:01.909016Z",
     "start_time": "2025-04-03T18:12:01.493255Z"
    }
   },
   "cell_type": "code",
   "source": [
    "test_path = \"../data/final/test.csv\"\n",
    "df_test = pd.read_csv(test_path)\n",
    "\n",
    "preds, labels = evaluate_on_test(model, df_test)"
   ],
   "id": "babae91e77854cfe",
   "outputs": [
    {
     "name": "stdout",
     "output_type": "stream",
     "text": [
      "Prediction: neutral - Label: negative\n",
      "Prediction: neutral - Label: negative\n",
      "Prediction: negative - Label: negative\n",
      "Prediction: negative - Label: negative\n",
      "Prediction: negative - Label: negative\n",
      "Prediction: negative - Label: negative\n",
      "Prediction: negative - Label: negative\n",
      "Prediction: negative - Label: negative\n",
      "Prediction: negative - Label: negative\n",
      "Prediction: negative - Label: negative\n",
      "Prediction: neutral - Label: neutral\n",
      "Prediction: neutral - Label: neutral\n",
      "Prediction: neutral - Label: neutral\n",
      "Prediction: neutral - Label: neutral\n",
      "Prediction: neutral - Label: neutral\n",
      "Prediction: neutral - Label: neutral\n",
      "Prediction: neutral - Label: neutral\n",
      "Prediction: neutral - Label: neutral\n",
      "Prediction: neutral - Label: neutral\n",
      "Prediction: neutral - Label: neutral\n",
      "Prediction: neutral - Label: positive\n",
      "Prediction: neutral - Label: positive\n",
      "Prediction: neutral - Label: positive\n",
      "Prediction: neutral - Label: positive\n",
      "Prediction: neutral - Label: positive\n",
      "Prediction: neutral - Label: positive\n",
      "Prediction: neutral - Label: positive\n",
      "Prediction: neutral - Label: positive\n",
      "Prediction: neutral - Label: positive\n",
      "Prediction: neutral - Label: positive\n"
     ]
    }
   ],
   "execution_count": 6
  },
  {
   "metadata": {},
   "cell_type": "markdown",
   "source": "",
   "id": "bf35a35ab7410496"
  },
  {
   "metadata": {
    "ExecuteTime": {
     "end_time": "2025-04-03T18:12:01.986791Z",
     "start_time": "2025-04-03T18:12:01.912669Z"
    }
   },
   "cell_type": "code",
   "source": [
    "classes = [\"negative\", \"neutral\", \"positive\"]\n",
    "cm = confusion_matrix(labels, preds, labels=classes)\n",
    "\n",
    "figure = plt.figure(figsize=(8, 8))\n",
    "sns.heatmap(cm, annot=True, fmt=\"d\", cmap=plt.cm.Blues, cbar=False, xticklabels=classes, yticklabels=classes)\n",
    "plt.tight_layout()\n",
    "plt.ylabel('True label')\n",
    "plt.xlabel('Predicted label')\n",
    "plt.show()"
   ],
   "id": "aa213cb2b33b5716",
   "outputs": [
    {
     "data": {
      "text/plain": [
       "<Figure size 800x800 with 1 Axes>"
      ],
      "image/png": "[encoded data removed]"
     },
     "metadata": {},
     "output_type": "display_data"
    }
   ],
   "execution_count": 7
  },
  {
   "metadata": {
    "ExecuteTime": {
     "end_time": "2025-04-03T18:12:02.009590Z",
     "start_time": "2025-04-03T18:12:01.996507Z"
    }
   },
   "cell_type": "code",
   "source": [
    "from sklearn.metrics import classification_report\n",
    "print(classification_report(labels, preds, target_names=classes))"
   ],
   "id": "73839a31fefdfc6a",
   "outputs": [
    {
     "name": "stdout",
     "output_type": "stream",
     "text": [
      "              precision    recall  f1-score   support\n",
      "\n",
      "    negative       1.00      0.80      0.89        10\n",
      "     neutral       0.45      1.00      0.62        10\n",
      "    positive       0.00      0.00      0.00        10\n",
      "\n",
      "    accuracy                           0.60        30\n",
      "   macro avg       0.48      0.60      0.50        30\n",
      "weighted avg       0.48      0.60      0.50        30\n",
      "\n"
     ]
    },
    {
     "name": "stderr",
     "output_type": "stream",
     "text": [
      "/home/eren/anaconda3/envs/DI725_assignment1/lib/python3.10/site-packages/sklearn/metrics/_classification.py:1565: UndefinedMetricWarning: Precision is ill-defined and being set to 0.0 in labels with no predicted samples. Use `zero_division` parameter to control this behavior.\n",
      "  _warn_prf(average, modifier, f\"{metric.capitalize()} is\", len(result))\n",
      "/home/eren/anaconda3/envs/DI725_assignment1/lib/python3.10/site-packages/sklearn/metrics/_classification.py:1565: UndefinedMetricWarning: Precision is ill-defined and being set to 0.0 in labels with no predicted samples. Use `zero_division` parameter to control this behavior.\n",
      "  _warn_prf(average, modifier, f\"{metric.capitalize()} is\", len(result))\n",
      "/home/eren/anaconda3/envs/DI725_assignment1/lib/python3.10/site-packages/sklearn/metrics/_classification.py:1565: UndefinedMetricWarning: Precision is ill-defined and being set to 0.0 in labels with no predicted samples. Use `zero_division` parameter to control this behavior.\n",
      "  _warn_prf(average, modifier, f\"{metric.capitalize()} is\", len(result))\n"
     ]
    }
   ],
   "execution_count": 8
  },
  {
   "metadata": {},
   "cell_type": "markdown",
   "source": "",
   "id": "f1be9dc57a3354b4"
  },
  {
   "metadata": {
    "ExecuteTime": {
     "end_time": "2025-04-03T18:12:02.746102Z",
     "start_time": "2025-04-03T18:12:02.045377Z"
    }
   },
   "cell_type": "code",
   "source": [
    "model_path = '../models/4_gpt2_sentiment_model.pkl'\n",
    "with open(model_path,'wb') as f:\n",
    "    pickle.dump(model, f)"
   ],
   "id": "d2f4efe112fe593a",
   "outputs": [],
   "execution_count": 9
  },
  {
   "metadata": {},
   "cell_type": "markdown",
   "source": "",
   "id": "8176cb76ba9c9646"
  }
 ],
 "metadata": {
  "kernelspec": {
   "display_name": "Python 3",
   "language": "python",
   "name": "python3"
  },
  "language_info": {
   "codemirror_mode": {
    "name": "ipython",
    "version": 2
   },
   "file_extension": ".py",
   "mimetype": "text/x-python",
   "name": "python",
   "nbconvert_exporter": "python",
   "pygments_lexer": "ipython2",
   "version": "2.7.6"
  }
 },
 "nbformat": 4,
 "nbformat_minor": 5
}
